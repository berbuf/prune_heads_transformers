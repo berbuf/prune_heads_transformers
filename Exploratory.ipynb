{
 "cells": [
  {
   "cell_type": "code",
   "execution_count": 3,
   "metadata": {},
   "outputs": [],
   "source": [
    "from matplotlib.pyplot import bar\n",
    "import matplotlib.pyplot as plt\n",
    "import numpy as np\n",
    "import json\n",
    "import colorlover as cl\n",
    "from IPython.display import HTML\n",
    "from IPython.display import Markdown\n",
    "import scipy\n",
    "from scipy import stats\n",
    "import networkx as nx"
   ]
  },
  {
   "cell_type": "code",
   "execution_count": 4,
   "metadata": {},
   "outputs": [],
   "source": [
    "import seaborn as sns\n",
    "#plt.style.use('default')\n",
    "plt.style.use('seaborn')"
   ]
  },
  {
   "cell_type": "markdown",
   "metadata": {},
   "source": [
    "# Read corpus"
   ]
  },
  {
   "cell_type": "code",
   "execution_count": 5,
   "metadata": {},
   "outputs": [],
   "source": [
    "def gen_token(n_line=-1):\n",
    "    with open(\"./res.json\") as f:\n",
    "        text = [ json.loads(l) for l in f.readlines() ]\n",
    "\n",
    "    if n_line != -1:\n",
    "        line = \" \".join(text[n_line][\"text\"])\n",
    "        for t in text[n_line][\"tokens\"]:\n",
    "            yield t[\"token\"], t[\"pos\"], t[\"dep\"], t[\"gates\"], t[\"attention\"], line\n",
    "        return\n",
    "\n",
    "    for l in text:\n",
    "        line = \" \".join(l[\"text\"])\n",
    "        for t in l[\"tokens\"]:\n",
    "            yield t[\"token\"], t[\"pos\"], t[\"dep\"], t[\"gates\"], t[\"attention\"], line"
   ]
  },
  {
   "cell_type": "markdown",
   "metadata": {},
   "source": [
    "# Count tokens"
   ]
  },
  {
   "cell_type": "code",
   "execution_count": 6,
   "metadata": {},
   "outputs": [],
   "source": [
    "def get_count():\n",
    "    count_pos, count_dep, count_mixed = {}, {}, {}\n",
    "    count_pos_layer, count_dep_layer, count_mixed_layer = {}, {}, {}\n",
    "    for token, pos, dep, gates, att, line in gen_token():\n",
    "        sum_gates = [sum(gates)]\n",
    "        sum_gates_layer = [np.array(gates).reshape(12, 12).sum(axis=1)]\n",
    "\n",
    "        if pos not in count_pos:\n",
    "            count_pos[pos] = []\n",
    "            count_pos_layer[pos] = []\n",
    "        if dep not in count_dep:\n",
    "            count_dep[dep] = []\n",
    "            count_dep_layer[dep] = []\n",
    "        if (pos, dep) not in count_mixed:\n",
    "            count_mixed[(pos, dep)] = []\n",
    "            count_mixed_layer[(pos, dep)] = []\n",
    "\n",
    "        count_dep[dep] += sum_gates\n",
    "        count_dep_layer[dep] += sum_gates_layer\n",
    "\n",
    "        count_pos[pos] += sum_gates\n",
    "        count_pos_layer[pos] += sum_gates_layer\n",
    "\n",
    "        count_mixed[(pos, dep)] += sum_gates\n",
    "        count_mixed_layer[(pos, dep)] += sum_gates_layer\n",
    "\n",
    "    return (count_pos, count_dep, count_mixed,\n",
    "            count_pos_layer, count_dep_layer, count_mixed_layer)\n",
    "\n",
    "count_pos, count_dep, count_mixed, count_pos_layer, count_dep_layer, count_mixed_layer = get_count()"
   ]
  },
  {
   "cell_type": "code",
   "execution_count": 7,
   "metadata": {},
   "outputs": [],
   "source": [
    "def explore_sub(fct, key):\n",
    "    count = {}\n",
    "    for token, pos, dep, gates, att, line in gen_token():\n",
    "        if fct(pos, dep) == key:\n",
    "            if fct(dep, pos) not in count:\n",
    "                count[fct(dep, pos)] = []\n",
    "            count[fct(dep, pos)] += [sum(gates)]\n",
    "    return count"
   ]
  },
  {
   "cell_type": "markdown",
   "metadata": {},
   "source": [
    "# tableau: moyenne, écart standard"
   ]
  },
  {
   "cell_type": "code",
   "execution_count": null,
   "metadata": {},
   "outputs": [],
   "source": [
    "sort = lambda z : sorted(z, key=lambda x: -np.mean(z[x]))"
   ]
  },
  {
   "cell_type": "code",
   "execution_count": null,
   "metadata": {},
   "outputs": [],
   "source": [
    "print (\"{:<10}{:<10}{:<10}{:<10}{}\".format(\"POS\", \"Freq\", \"Mean\", \"Std Dev\", \"Non zero %\\n\"))\n",
    "print (\"mean\", np.array([ e for c in count_pos for e in count_pos[c] ]).mean())\n",
    "\n",
    "for k in sort(count_pos):\n",
    "    if len(count_pos[k]) > 10:\n",
    "        print (\"{:<10}{:<10}{:<10}{}\".format(k,\n",
    "                                             len(count_pos[k]),\n",
    "                                             round(np.mean(count_pos[k]), 2),\n",
    "                                             round(np.std(count_pos[k])), 2))"
   ]
  },
  {
   "cell_type": "code",
   "execution_count": null,
   "metadata": {},
   "outputs": [],
   "source": [
    "print (\"{:<15}{:<10}{:<10}{}\".format(\"POS\", \"Freq\", \"Mean\", \"Std Dev\\n\"))\n",
    "\n",
    "for k in sort(count_mixed):\n",
    "    if len(count_mixed[k]) > 5:\n",
    "        print (\"{:<15}{:<10}{:<10}{}\".format(\"-\".join(k),\n",
    "                                             len(count_mixed[k]),\n",
    "                                             round(np.mean(count_mixed[k]), 2),\n",
    "                                             round(np.std(count_mixed[k]), 2)))"
   ]
  },
  {
   "cell_type": "code",
   "execution_count": null,
   "metadata": {},
   "outputs": [],
   "source": [
    "k = \"VERB\"\n",
    "print (\"\\n{:<15}{:<10}{}\".format(k, len(count_pos[k]), np.mean(count_pos[k])))\n",
    "count = explore_sub(lambda pos, dep: pos, \"VERB\")\n",
    "for n in sort(count):\n",
    "    if len(count[n]) <= 10:\n",
    "        continue\n",
    "    print (\"{:<15}{:<15}{:<10}{:<10}{}\".format(\"\",\n",
    "                                               n,\n",
    "                                               len(count[n]),\n",
    "                                               round(np.mean(count[n]), 2),\n",
    "                                               round(np.std(count[n])), 2))"
   ]
  },
  {
   "cell_type": "code",
   "execution_count": null,
   "metadata": {},
   "outputs": [],
   "source": [
    "print (\"{:<15}{:<15}{:<10}{:<10}{}\".format(\"POS\", \"DEP\", \"Freq\", \"Mean\", \"Std Dev\\n\"))\n",
    "\n",
    "for k in sort(count_pos):\n",
    "    if len(count_pos[k]) > 5:\n",
    "        print (\"\\n{:<15}{:<10}{}\".format(k, len(count_pos[k]), np.mean(count_pos[k])))\n",
    "        count = explore_sub(lambda pos, dep: pos, k)\n",
    "        for n in sort(count):\n",
    "            if len(count[n]) > 10:\n",
    "                print (\"{:<15}{:<15}{:<10}{:<10}{}\".format(\"\",\n",
    "                                                           n,\n",
    "                                                           len(count[n]),\n",
    "                                                           round(np.mean(count[n]), 2),\n",
    "                                                           round(np.std(count[n])), 2))"
   ]
  },
  {
   "cell_type": "markdown",
   "metadata": {},
   "source": [
    "# Layer par layer"
   ]
  },
  {
   "cell_type": "code",
   "execution_count": 11,
   "metadata": {},
   "outputs": [],
   "source": [
    "norm = lambda x: x / np.sum(x)\n",
    "slice_mean = lambda x, n: x.reshape(int(12/n), n).mean(axis=1)\n",
    "layer_mean = lambda x: np.array(x).mean(axis=0)"
   ]
  },
  {
   "cell_type": "code",
   "execution_count": 8,
   "metadata": {},
   "outputs": [],
   "source": [
    "def sort_layer(n_layer):\n",
    "    sort = lambda z : sorted(z, key=lambda x: -np.mean(np.array(z[x])[:,n_layer]))\n",
    "\n",
    "    print (\"{:<10}{:<10}{:<10}{}\".format(\"POS\", \"Freq\", \"Mean\", \"Std Dev\\n\"))\n",
    "    for k in sort(count_pos_layer):\n",
    "        layer_gates = np.array(count_pos_layer[k])[:,n_layer]\n",
    "        if len(layer_gates) > 10:\n",
    "            print (\"{:<10}{:<10}{:<10}{}\".format(k,\n",
    "                                             len(layer_gates),\n",
    "                                             round(layer_gates.mean(), 4),\n",
    "                                             round(np.std(layer_gates), 4)))"
   ]
  },
  {
   "cell_type": "code",
   "execution_count": 9,
   "metadata": {
    "collapsed": true
   },
   "outputs": [
    {
     "name": "stdout",
     "output_type": "stream",
     "text": [
      "layer 1\n",
      "POS       Freq      Mean      Std Dev\n",
      "\n",
      "NOUN      2107      0.3888    0.5506\n",
      "PROPN     1106      0.3693    0.64\n",
      "ADJ       741       0.3635    0.6122\n",
      "NUM       278       0.3377    0.4994\n",
      "VERB      1880      0.2765    0.4346\n",
      "PART      241       0.2763    0.3572\n",
      "ADV       471       0.2719    0.5275\n",
      "PRON      335       0.2549    0.5451\n",
      "CCONJ     261       0.2289    0.5267\n",
      "ADP       1461      0.2126    0.4019\n",
      "DET       1284      0.1943    0.4309\n",
      "PUNCT     1151      0.1918    0.3095\n",
      "SYM       15        0.0539    0.0995\n",
      "\n",
      "layer 2\n",
      "POS       Freq      Mean      Std Dev\n",
      "\n",
      "ADJ       741       0.8182    0.7166\n",
      "NOUN      2107      0.7826    0.5648\n",
      "PRON      335       0.7499    0.6643\n",
      "VERB      1880      0.7464    0.5072\n",
      "PROPN     1106      0.7086    0.5984\n",
      "ADV       471       0.7074    0.5958\n",
      "PUNCT     1151      0.6825    0.4389\n",
      "NUM       278       0.6788    0.4939\n",
      "CCONJ     261       0.5806    0.6153\n",
      "PART      241       0.5675    0.421\n",
      "DET       1284      0.5615    0.532\n",
      "ADP       1461      0.5015    0.413\n",
      "SYM       15        0.4677    0.3506\n",
      "\n",
      "layer 3\n",
      "POS       Freq      Mean      Std Dev\n",
      "\n",
      "PROPN     1106      0.6639    0.7174\n",
      "NOUN      2107      0.6144    0.5789\n",
      "PRON      335       0.5818    0.6108\n",
      "ADJ       741       0.5383    0.621\n",
      "VERB      1880      0.5332    0.4878\n",
      "ADV       471       0.5187    0.5275\n",
      "NUM       278       0.4957    0.5723\n",
      "PUNCT     1151      0.46      0.6114\n",
      "CCONJ     261       0.4064    0.6423\n",
      "ADP       1461      0.3967    0.4424\n",
      "SYM       15        0.3957    0.3461\n",
      "DET       1284      0.3525    0.493\n",
      "PART      241       0.2766    0.3268\n",
      "\n",
      "layer 4\n",
      "POS       Freq      Mean      Std Dev\n",
      "\n",
      "PROPN     1106      0.9871    0.9114\n",
      "VERB      1880      0.9376    0.7336\n",
      "ADJ       741       0.9348    0.8905\n",
      "NOUN      2107      0.9275    0.7836\n",
      "ADV       471       0.8291    0.7243\n",
      "NUM       278       0.7967    0.6895\n",
      "PRON      335       0.7292    0.6683\n",
      "SYM       15        0.7267    0.512\n",
      "DET       1284      0.5667    0.6056\n",
      "ADP       1461      0.5416    0.556\n",
      "CCONJ     261       0.5314    0.6218\n",
      "PUNCT     1151      0.4651    0.514\n",
      "PART      241       0.4518    0.634\n",
      "\n",
      "layer 5\n",
      "POS       Freq      Mean      Std Dev\n",
      "\n",
      "PROPN     1106      1.395     1.1302\n",
      "NOUN      2107      1.2885    1.0459\n",
      "ADJ       741       1.1707    1.0597\n",
      "ADV       471       1.1634    0.9598\n",
      "CCONJ     261       1.136     0.8345\n",
      "SYM       15        1.1331    0.6378\n",
      "VERB      1880      1.1117    0.9006\n",
      "NUM       278       1.0944    0.9676\n",
      "PRON      335       0.8767    0.9428\n",
      "ADP       1461      0.8596    0.754\n",
      "DET       1284      0.7635    0.7052\n",
      "PUNCT     1151      0.6803    0.8355\n",
      "PART      241       0.3598    0.5624\n",
      "\n",
      "layer 6\n",
      "POS       Freq      Mean      Std Dev\n",
      "\n",
      "NUM       278       1.4166    1.3559\n",
      "PROPN     1106      1.3122    1.5824\n",
      "ADV       471       1.292     1.4301\n",
      "NOUN      2107      1.2215    1.3432\n",
      "ADJ       741       1.1536    1.2596\n",
      "ADP       1461      1.14      1.0618\n",
      "VERB      1880      1.0287    1.1279\n",
      "CCONJ     261       0.8861    0.9055\n",
      "PRON      335       0.7566    1.1162\n",
      "DET       1284      0.5911    0.8146\n",
      "SYM       15        0.5852    0.6201\n",
      "PART      241       0.3923    0.9694\n",
      "PUNCT     1151      0.355     0.7039\n",
      "\n",
      "layer 7\n",
      "POS       Freq      Mean      Std Dev\n",
      "\n",
      "NOUN      2107      1.5463    1.5953\n",
      "PROPN     1106      1.5252    1.6763\n",
      "NUM       278       1.4519    1.4576\n",
      "ADJ       741       1.2521    1.3641\n",
      "ADV       471       1.1201    1.4485\n",
      "VERB      1880      1.0796    1.2656\n",
      "PRON      335       0.8901    1.1642\n",
      "CCONJ     261       0.8882    1.0686\n",
      "ADP       1461      0.6694    0.9362\n",
      "DET       1284      0.5009    0.8493\n",
      "SYM       15        0.4222    0.4987\n",
      "PUNCT     1151      0.2948    0.7282\n",
      "PART      241       0.2256    0.5017\n",
      "\n",
      "layer 8\n",
      "POS       Freq      Mean      Std Dev\n",
      "\n",
      "PROPN     1106      1.7915    1.7196\n",
      "NUM       278       1.7898    1.4324\n",
      "ADJ       741       1.6707    1.526\n",
      "NOUN      2107      1.6305    1.4695\n",
      "ADV       471       1.127     1.3641\n",
      "VERB      1880      1.0269    1.3233\n",
      "PRON      335       0.9156    1.1913\n",
      "ADP       1461      0.7847    0.9778\n",
      "DET       1284      0.606     0.8569\n",
      "CCONJ     261       0.5684    0.9611\n",
      "SYM       15        0.4781    0.5639\n",
      "PART      241       0.287     0.68\n",
      "PUNCT     1151      0.2581    0.7314\n",
      "\n",
      "layer 9\n",
      "POS       Freq      Mean      Std Dev\n",
      "\n",
      "PROPN     1106      1.4776    1.9592\n",
      "NUM       278       1.4523    1.8831\n",
      "ADJ       741       1.4311    1.8122\n",
      "NOUN      2107      1.26      1.6696\n",
      "ADV       471       1.1984    1.5856\n",
      "VERB      1880      0.9766    1.3437\n",
      "PRON      335       0.8244    1.0422\n",
      "CCONJ     261       0.7123    1.2213\n",
      "ADP       1461      0.4785    0.9755\n",
      "DET       1284      0.4529    0.804\n",
      "PUNCT     1151      0.2459    0.7362\n",
      "SYM       15        0.2141    0.5672\n",
      "PART      241       0.1655    0.5878\n",
      "\n",
      "layer 10\n",
      "POS       Freq      Mean      Std Dev\n",
      "\n",
      "PROPN     1106      1.1452    1.6542\n",
      "NOUN      2107      1.0604    1.4862\n",
      "ADJ       741       0.9427    1.4085\n",
      "NUM       278       0.8174    1.3012\n",
      "VERB      1880      0.7243    1.1958\n",
      "ADV       471       0.5567    1.1404\n",
      "SYM       15        0.272     0.5562\n",
      "ADP       1461      0.2358    0.7471\n",
      "CCONJ     261       0.235     0.7096\n",
      "PRON      335       0.2234    0.5786\n",
      "DET       1284      0.148     0.5326\n",
      "PART      241       0.1049    0.3967\n",
      "PUNCT     1151      0.0955    0.4258\n",
      "\n",
      "layer 11\n",
      "POS       Freq      Mean      Std Dev\n",
      "\n",
      "PROPN     1106      1.212     1.8118\n",
      "NOUN      2107      1.1155    1.5882\n",
      "ADJ       741       1.0109    1.5294\n",
      "NUM       278       0.9856    1.5618\n",
      "VERB      1880      0.7163    1.1644\n",
      "ADV       471       0.4189    0.9515\n",
      "PRON      335       0.3837    1.1498\n",
      "ADP       1461      0.1165    0.4593\n",
      "DET       1284      0.1136    0.5044\n",
      "CCONJ     261       0.0804    0.3303\n",
      "PUNCT     1151      0.0595    0.3798\n",
      "PART      241       0.0406    0.3168\n",
      "SYM       15        0.0257    0.0924\n",
      "\n",
      "layer 12\n",
      "POS       Freq      Mean      Std Dev\n",
      "\n",
      "NUM       278       1.261     1.9582\n",
      "PROPN     1106      1.1447    1.6706\n",
      "NOUN      2107      1.0698    1.4729\n",
      "ADJ       741       0.8627    1.4199\n",
      "PRON      335       0.7114    1.014\n",
      "VERB      1880      0.6116    1.08\n",
      "ADV       471       0.4165    1.1028\n",
      "DET       1284      0.2292    0.5359\n",
      "CCONJ     261       0.1704    0.6844\n",
      "PUNCT     1151      0.1452    0.6134\n",
      "ADP       1461      0.0795    0.364\n",
      "PART      241       0.0463    0.5508\n",
      "SYM       15        0.0456    0.1244\n",
      "\n"
     ]
    }
   ],
   "source": [
    "for i in range(12):\n",
    "    print (\"layer\", i+1)\n",
    "    sort_layer(i)\n",
    "    print ()"
   ]
  },
  {
   "cell_type": "code",
   "execution_count": 17,
   "metadata": {},
   "outputs": [
    {
     "name": "stdout",
     "output_type": "stream",
     "text": [
      "PROPN     0.6292304264773222\n",
      "NUM       0.5897757961568119\n",
      "NOUN      0.5824119631718839\n",
      "ADJ       0.494657598114845\n",
      "VERB      0.2332836027496776\n",
      "ADV       0.02854894020769136\n",
      "PRON      -0.002923322481038382\n",
      "CCONJ     -0.274459858825436\n",
      "ADP       -0.2769572975746338\n",
      "DET       -0.3707183271922657\n",
      "SYM       -0.37931397037018705\n",
      "PUNCT     -0.6712061944879472\n",
      "PART      -0.80233540492066\n"
     ]
    }
   ],
   "source": [
    "coeff = [ (k, np.corrcoef(np.arange(12), layer_mean(count_pos_layer[k]))[0][1]) for k in count_pos_layer ]\n",
    "for k, val in sorted(coeff, key=lambda x: -x[1]):\n",
    "    if len(count_pos_layer[k]) > 10:\n",
    "        print (\"{:<10}{}\".format(k, val))"
   ]
  },
  {
   "cell_type": "code",
   "execution_count": 19,
   "metadata": {},
   "outputs": [
    {
     "name": "stdout",
     "output_type": "stream",
     "text": [
      "advcl     0.5867030944025193\n",
      "amod      0.5101399811064419\n",
      "acl       0.4268681287745828\n",
      "pcomp     0.414140307432665\n",
      "conj      0.3437237286991277\n",
      "xcomp     0.31366038597624385\n",
      "ccomp     0.26306725317994595\n",
      "ROOT      0.25771626935962655\n",
      "relcl     0.22759423575273713\n",
      "prep      -0.04236129262061096\n",
      "aux       -0.13572831762187956\n",
      "auxpass   -0.5358505915731697\n"
     ]
    }
   ],
   "source": [
    "def explore_verb():\n",
    "    count = {}\n",
    "    for token, pos, dep, gates, att, line in gen_token():\n",
    "        sum_gates_layer = [np.array(gates).reshape(12, 12).sum(axis=1)]\n",
    "        if pos == \"VERB\":\n",
    "            if dep not in count:\n",
    "                count[dep] = []\n",
    "            count[dep] += sum_gates_layer\n",
    "    return count\n",
    "count_verb = explore_verb()\n",
    "\n",
    "coeff = [ (k, np.corrcoef(np.arange(12), layer_mean(count_verb[k]))[0][1]) for k in count_verb ]\n",
    "\n",
    "coeff = sorted(coeff, key=lambda x: -x[1])\n",
    "for k, val in coeff:\n",
    "    if len(count_verb[k]) > 10:\n",
    "        print (\"{:<10}{}\".format(k, val))"
   ]
  },
  {
   "cell_type": "code",
   "execution_count": 21,
   "metadata": {
    "scrolled": false
   },
   "outputs": [
    {
     "name": "stderr",
     "output_type": "stream",
     "text": [
      "The PostScript backend does not support transparency; partially transparent artists will be rendered opaque.\n",
      "The PostScript backend does not support transparency; partially transparent artists will be rendered opaque.\n",
      "The PostScript backend does not support transparency; partially transparent artists will be rendered opaque.\n",
      "The PostScript backend does not support transparency; partially transparent artists will be rendered opaque.\n",
      "The PostScript backend does not support transparency; partially transparent artists will be rendered opaque.\n",
      "The PostScript backend does not support transparency; partially transparent artists will be rendered opaque.\n",
      "The PostScript backend does not support transparency; partially transparent artists will be rendered opaque.\n",
      "The PostScript backend does not support transparency; partially transparent artists will be rendered opaque.\n",
      "The PostScript backend does not support transparency; partially transparent artists will be rendered opaque.\n",
      "The PostScript backend does not support transparency; partially transparent artists will be rendered opaque.\n",
      "The PostScript backend does not support transparency; partially transparent artists will be rendered opaque.\n",
      "The PostScript backend does not support transparency; partially transparent artists will be rendered opaque.\n",
      "The PostScript backend does not support transparency; partially transparent artists will be rendered opaque.\n",
      "The PostScript backend does not support transparency; partially transparent artists will be rendered opaque.\n",
      "The PostScript backend does not support transparency; partially transparent artists will be rendered opaque.\n",
      "The PostScript backend does not support transparency; partially transparent artists will be rendered opaque.\n",
      "The PostScript backend does not support transparency; partially transparent artists will be rendered opaque.\n",
      "The PostScript backend does not support transparency; partially transparent artists will be rendered opaque.\n",
      "The PostScript backend does not support transparency; partially transparent artists will be rendered opaque.\n",
      "The PostScript backend does not support transparency; partially transparent artists will be rendered opaque.\n",
      "The PostScript backend does not support transparency; partially transparent artists will be rendered opaque.\n",
      "The PostScript backend does not support transparency; partially transparent artists will be rendered opaque.\n",
      "The PostScript backend does not support transparency; partially transparent artists will be rendered opaque.\n",
      "The PostScript backend does not support transparency; partially transparent artists will be rendered opaque.\n",
      "The PostScript backend does not support transparency; partially transparent artists will be rendered opaque.\n",
      "The PostScript backend does not support transparency; partially transparent artists will be rendered opaque.\n",
      "The PostScript backend does not support transparency; partially transparent artists will be rendered opaque.\n",
      "The PostScript backend does not support transparency; partially transparent artists will be rendered opaque.\n",
      "The PostScript backend does not support transparency; partially transparent artists will be rendered opaque.\n",
      "The PostScript backend does not support transparency; partially transparent artists will be rendered opaque.\n",
      "The PostScript backend does not support transparency; partially transparent artists will be rendered opaque.\n",
      "The PostScript backend does not support transparency; partially transparent artists will be rendered opaque.\n",
      "The PostScript backend does not support transparency; partially transparent artists will be rendered opaque.\n",
      "The PostScript backend does not support transparency; partially transparent artists will be rendered opaque.\n",
      "The PostScript backend does not support transparency; partially transparent artists will be rendered opaque.\n"
     ]
    },
    {
     "data": {
      "image/png": "[encoded data removed]",
      "text/plain": [
       "<Figure size 360x360 with 1 Axes>"
      ]
     },
     "metadata": {},
     "output_type": "display_data"
    }
   ],
   "source": [
    "merge = [[\"PROPN\", \"NOUN\", \"ADJ\"], [\"ADV\", \"VERB\"], [\"ADP\"], [\"DET\"], [\"PUNCT\"] ]\n",
    "merge = [[\"PUNCT\"], [\"DET\"], [\"ADP\", \"CCONJ\"], [\"ADV\", \"VERB\"], [\"PROPN\", \"NOUN\", \"ADJ\"]]\n",
    "\n",
    "fig, ax = plt.subplots(figsize=(5, 5))\n",
    "index = np.arange(6)\n",
    "bar_width = 1/6\n",
    "opacity = 0.8\n",
    "\n",
    "for i, k in enumerate(merge):\n",
    "\n",
    "    val = np.array([ slice_mean(layer_mean(count_pos_layer[e]), 2) for e in k ]).mean(axis=0)\n",
    "    plt.bar(index + bar_width * i, val, bar_width, alpha=opacity, label=\", \".join(k))\n",
    "\n",
    "\n",
    "plt.xlabel('Layers')\n",
    "plt.ylabel('Avg. nb. of gates')\n",
    "\n",
    "plt.xticks(index + bar_width + .2, [ str((i+1)*2-1) + \" - \" + str((i+1)*2) for i in np.arange(12)])\n",
    "plt.legend()\n",
    "\n",
    "plt.tight_layout()\n",
    "plt.savefig(\"9.eps\", method=\".eps\")\n",
    "plt.show()"
   ]
  },
  {
   "cell_type": "markdown",
   "metadata": {},
   "source": [
    "### Measure of entropy POS"
   ]
  },
  {
   "cell_type": "code",
   "execution_count": null,
   "metadata": {
    "scrolled": true
   },
   "outputs": [],
   "source": []
  },
  {
   "cell_type": "code",
   "execution_count": null,
   "metadata": {},
   "outputs": [],
   "source": [
    "def get_ent(att):\n",
    "    return np.array([ 0 if head_att == 0 else scipy.stats.entropy(head_att) for layer_att in att for head_att in layer_att ])\n",
    "\n",
    "def get_ent_pos():\n",
    "    count_ent_pos = {}\n",
    "    for token, pos, dep, gates, att, line in gen_token():\n",
    "        if pos not in count_ent_pos:\n",
    "            count_ent_pos[pos] = []\n",
    "        count_ent_pos[pos] += [get_ent(att)]\n",
    "    return count_ent_pos\n",
    "\n",
    "count_ent_pos = get_ent_pos()"
   ]
  },
  {
   "cell_type": "code",
   "execution_count": 22,
   "metadata": {
    "scrolled": true
   },
   "outputs": [
    {
     "ename": "NameError",
     "evalue": "name 'count_ent_pos' is not defined",
     "output_type": "error",
     "traceback": [
      "\u001b[0;31m---------------------------------------------------------------------------\u001b[0m",
      "\u001b[0;31mNameError\u001b[0m                                 Traceback (most recent call last)",
      "\u001b[0;32m<ipython-input-22-7b5e8740dea9>\u001b[0m in \u001b[0;36m<module>\u001b[0;34m()\u001b[0m\n\u001b[1;32m      1\u001b[0m \u001b[0msort\u001b[0m \u001b[0;34m=\u001b[0m \u001b[0;32mlambda\u001b[0m \u001b[0mz\u001b[0m \u001b[0;34m:\u001b[0m \u001b[0msorted\u001b[0m\u001b[0;34m(\u001b[0m\u001b[0mz\u001b[0m\u001b[0;34m,\u001b[0m \u001b[0mkey\u001b[0m\u001b[0;34m=\u001b[0m\u001b[0;32mlambda\u001b[0m \u001b[0mx\u001b[0m\u001b[0;34m:\u001b[0m \u001b[0;34m-\u001b[0m\u001b[0mnp\u001b[0m\u001b[0;34m.\u001b[0m\u001b[0mmean\u001b[0m\u001b[0;34m(\u001b[0m\u001b[0mz\u001b[0m\u001b[0;34m[\u001b[0m\u001b[0mx\u001b[0m\u001b[0;34m]\u001b[0m\u001b[0;34m)\u001b[0m\u001b[0;34m)\u001b[0m\u001b[0;34m\u001b[0m\u001b[0;34m\u001b[0m\u001b[0m\n\u001b[0;32m----> 2\u001b[0;31m \u001b[0;32mfor\u001b[0m \u001b[0mk\u001b[0m \u001b[0;32min\u001b[0m \u001b[0msort\u001b[0m\u001b[0;34m(\u001b[0m\u001b[0mcount_ent_pos\u001b[0m\u001b[0;34m)\u001b[0m\u001b[0;34m:\u001b[0m\u001b[0;34m\u001b[0m\u001b[0;34m\u001b[0m\u001b[0m\n\u001b[0m\u001b[1;32m      3\u001b[0m     \u001b[0;32mif\u001b[0m \u001b[0mlen\u001b[0m\u001b[0;34m(\u001b[0m\u001b[0mcount_ent_pos\u001b[0m\u001b[0;34m[\u001b[0m\u001b[0mk\u001b[0m\u001b[0;34m]\u001b[0m\u001b[0;34m)\u001b[0m \u001b[0;34m>\u001b[0m \u001b[0;36m10\u001b[0m\u001b[0;34m:\u001b[0m\u001b[0;34m\u001b[0m\u001b[0;34m\u001b[0m\u001b[0m\n\u001b[1;32m      4\u001b[0m \u001b[0;34m\u001b[0m\u001b[0m\n\u001b[1;32m      5\u001b[0m         \u001b[0mprint\u001b[0m \u001b[0;34m(\u001b[0m\u001b[0;34m\"POS: {:<10} mean: {:<10}\"\u001b[0m\u001b[0;34m.\u001b[0m\u001b[0mformat\u001b[0m\u001b[0;34m(\u001b[0m\u001b[0mk\u001b[0m\u001b[0;34m,\u001b[0m \u001b[0mnp\u001b[0m\u001b[0;34m.\u001b[0m\u001b[0mmean\u001b[0m\u001b[0;34m(\u001b[0m\u001b[0mcount_ent_pos\u001b[0m\u001b[0;34m[\u001b[0m\u001b[0mk\u001b[0m\u001b[0;34m]\u001b[0m\u001b[0;34m)\u001b[0m\u001b[0;34m)\u001b[0m\u001b[0;34m)\u001b[0m\u001b[0;34m\u001b[0m\u001b[0;34m\u001b[0m\u001b[0m\n",
      "\u001b[0;31mNameError\u001b[0m: name 'count_ent_pos' is not defined"
     ]
    }
   ],
   "source": [
    "sort = lambda z : sorted(z, key=lambda x: -np.mean(z[x]))\n",
    "for k in sort(count_ent_pos):\n",
    "    if len(count_ent_pos[k]) > 10:\n",
    "        \n",
    "        print (\"POS: {:<10} mean: {:<10}\".format(k, np.mean(count_ent_pos[k])))\n",
    "        x = np.array([ [i]*12 for i in range(12) ]).flatten()\n",
    "        ent = np.array(count_ent_pos[k]).mean(0)\n",
    "    \n",
    "        #plt.scatter(x, ent)\n",
    "        #plt.plot(ent.reshape(12, 12).mean(1))\n",
    "        #plt.show()"
   ]
  },
  {
   "cell_type": "code",
   "execution_count": 23,
   "metadata": {},
   "outputs": [
    {
     "ename": "NameError",
     "evalue": "name 'get_ent' is not defined",
     "output_type": "error",
     "traceback": [
      "\u001b[0;31m---------------------------------------------------------------------------\u001b[0m",
      "\u001b[0;31mNameError\u001b[0m                                 Traceback (most recent call last)",
      "\u001b[0;32m<ipython-input-23-9a80c45f02e3>\u001b[0m in \u001b[0;36m<module>\u001b[0;34m()\u001b[0m\n\u001b[1;32m      1\u001b[0m \u001b[0mglob_ent\u001b[0m \u001b[0;34m=\u001b[0m \u001b[0;34m[\u001b[0m\u001b[0;34m]\u001b[0m\u001b[0;34m\u001b[0m\u001b[0;34m\u001b[0m\u001b[0m\n\u001b[1;32m      2\u001b[0m \u001b[0;32mfor\u001b[0m \u001b[0mtoken\u001b[0m\u001b[0;34m,\u001b[0m \u001b[0mpos\u001b[0m\u001b[0;34m,\u001b[0m \u001b[0mdep\u001b[0m\u001b[0;34m,\u001b[0m \u001b[0mgates\u001b[0m\u001b[0;34m,\u001b[0m \u001b[0matt\u001b[0m\u001b[0;34m,\u001b[0m \u001b[0mline\u001b[0m \u001b[0;32min\u001b[0m \u001b[0mgen_token\u001b[0m\u001b[0;34m(\u001b[0m\u001b[0;34m)\u001b[0m\u001b[0;34m:\u001b[0m\u001b[0;34m\u001b[0m\u001b[0;34m\u001b[0m\u001b[0m\n\u001b[0;32m----> 3\u001b[0;31m     \u001b[0mglob_ent\u001b[0m \u001b[0;34m+=\u001b[0m \u001b[0;34m[\u001b[0m\u001b[0mget_ent\u001b[0m\u001b[0;34m(\u001b[0m\u001b[0matt\u001b[0m\u001b[0;34m)\u001b[0m\u001b[0;34m]\u001b[0m\u001b[0;34m\u001b[0m\u001b[0;34m\u001b[0m\u001b[0m\n\u001b[0m\u001b[1;32m      4\u001b[0m \u001b[0mglob_ent\u001b[0m \u001b[0;34m=\u001b[0m \u001b[0mnp\u001b[0m\u001b[0;34m.\u001b[0m\u001b[0marray\u001b[0m\u001b[0;34m(\u001b[0m\u001b[0mglob_ent\u001b[0m\u001b[0;34m)\u001b[0m\u001b[0;34m.\u001b[0m\u001b[0mmean\u001b[0m\u001b[0;34m(\u001b[0m\u001b[0;36m0\u001b[0m\u001b[0;34m)\u001b[0m\u001b[0;34m\u001b[0m\u001b[0;34m\u001b[0m\u001b[0m\n\u001b[1;32m      5\u001b[0m \u001b[0mx\u001b[0m \u001b[0;34m=\u001b[0m \u001b[0mnp\u001b[0m\u001b[0;34m.\u001b[0m\u001b[0marray\u001b[0m\u001b[0;34m(\u001b[0m\u001b[0;34m[\u001b[0m \u001b[0;34m[\u001b[0m\u001b[0mi\u001b[0m\u001b[0;34m]\u001b[0m\u001b[0;34m*\u001b[0m\u001b[0;36m12\u001b[0m \u001b[0;32mfor\u001b[0m \u001b[0mi\u001b[0m \u001b[0;32min\u001b[0m \u001b[0mrange\u001b[0m\u001b[0;34m(\u001b[0m\u001b[0;36m12\u001b[0m\u001b[0;34m)\u001b[0m \u001b[0;34m]\u001b[0m\u001b[0;34m)\u001b[0m\u001b[0;34m.\u001b[0m\u001b[0mflatten\u001b[0m\u001b[0;34m(\u001b[0m\u001b[0;34m)\u001b[0m\u001b[0;34m\u001b[0m\u001b[0;34m\u001b[0m\u001b[0m\n",
      "\u001b[0;31mNameError\u001b[0m: name 'get_ent' is not defined"
     ]
    }
   ],
   "source": [
    "glob_ent = []\n",
    "for token, pos, dep, gates, att, line in gen_token():\n",
    "    glob_ent += [get_ent(att)]\n",
    "glob_ent = np.array(glob_ent).mean(0)\n",
    "x = np.array([ [i]*12 for i in range(12) ]).flatten()\n",
    "ent = np.array(glob_ent)\n",
    "plt.scatter(x, ent)\n",
    "plt.plot(ent.reshape(12, 12).mean(1))\n",
    "plt.show()"
   ]
  },
  {
   "cell_type": "code",
   "execution_count": 87,
   "metadata": {},
   "outputs": [],
   "source": [
    "color_scales = cl.scales['11'][\"div\"][\"Spectral\"]\n",
    "span = lambda x, c: \"<span style=\\\"color:\" + c + \"\\\">\" + x + \"</span>\"\n",
    "bin_rgb = lambda x: str(color_scales[10 - int(x / (5/11))])\n",
    "print_mkdw = lambda x: display (Markdown(x))\n",
    "\n",
    "def print_att(att):\n",
    "    plt.imshow(att)\n",
    "    plt.yticks([])\n",
    "    plt.show()\n",
    "    plt.figure(figsize = (20,2))\n",
    "    plt.yticks([])\n",
    "    plt.imshow([att.sum(0)])\n",
    "    plt.show()\n",
    "\n",
    "def print_att_token(line, flat_att, token):\n",
    "    res = []\n",
    "    for l, a in zip(line.split(\" \"), flat_att):\n",
    "        a = np.log2(a+1)\n",
    "        if l == token:\n",
    "            res += [span(\"(*\" + l + \"*)\", bin_rgb(a))]\n",
    "            #res += [ '<span style=\"color: red\">' + l + '</span>' ]\n",
    "        elif a > 0.:\n",
    "            res += [span(l, bin_rgb(a))]\n",
    "        else:\n",
    "            res += [l]\n",
    "    return  \"### \" + \" \".join(res)"
   ]
  },
  {
   "cell_type": "code",
   "execution_count": 88,
   "metadata": {},
   "outputs": [],
   "source": [
    "for i, (token, pos, dep, gates, att, line) in enumerate(gen_token(53)):\n",
    "    #print (\"\\n\\n\\n{:<5}{:<20}{:<20}{}\".format(0, token, pos, dep))\n",
    "    att = stack_att(att)\n",
    "    flat_att = att.sum(0)\n",
    "    #print (att.shape)\n",
    "    #print_att(att)\n",
    "    #print_mkdw( print_att_token(line, flat_att, token) )"
   ]
  },
  {
   "cell_type": "code",
   "execution_count": null,
   "metadata": {},
   "outputs": [],
   "source": [
    "att_line, line, lab = get_stack_att_line(n_line=68, start_layer=-1, end_layer=6, norm=False)\n",
    "print_mat_att(att_line[1:,1:-1], line[1:-1], lab[1:])"
   ]
  },
  {
   "cell_type": "markdown",
   "metadata": {},
   "source": [
    "### Schemas 1"
   ]
  },
  {
   "cell_type": "code",
   "execution_count": 63,
   "metadata": {},
   "outputs": [],
   "source": [
    "def value_gates():\n",
    "    gate_val = []\n",
    "    for token, pos, dep, gates, att, line in gen_token():\n",
    "        gate_val += [np.array(gates)]\n",
    "    return np.array(gate_val)\n",
    "gate_values = value_gates()"
   ]
  },
  {
   "cell_type": "code",
   "execution_count": 64,
   "metadata": {
    "scrolled": false
   },
   "outputs": [
    {
     "data": {
      "image/png": "[encoded data removed]",
      "text/plain": [
       "<Figure size 576x216 with 1 Axes>"
      ]
     },
     "metadata": {},
     "output_type": "display_data"
    },
    {
     "data": {
      "image/png": "[encoded data removed]",
      "text/plain": [
       "<Figure size 576x216 with 1 Axes>"
      ]
     },
     "metadata": {},
     "output_type": "display_data"
    },
    {
     "data": {
      "image/png": "[encoded data removed]",
      "text/plain": [
       "<Figure size 576x216 with 1 Axes>"
      ]
     },
     "metadata": {},
     "output_type": "display_data"
    },
    {
     "data": {
      "image/png": "[encoded data removed]",
      "text/plain": [
       "<Figure size 576x216 with 1 Axes>"
      ]
     },
     "metadata": {},
     "output_type": "display_data"
    }
   ],
   "source": [
    "size = (8, 3)\n",
    "\n",
    "x_ticks = list(range(1, 13))\n",
    "x = np.array([ [i+1]*12 for i in range(12) ]).flatten()\n",
    "\n",
    "plt.figure(figsize=size)\n",
    "plt.scatter(x, gate_values.mean(0), c=\"royalblue\")\n",
    "plt.plot(x_ticks, gate_values.reshape(-1, 12, 12).mean(0).mean(1), c=\"red\")\n",
    "plt.xlabel(\"Layers\")\n",
    "plt.ylabel(\"Mean\")\n",
    "plt.xticks(x_ticks)\n",
    "\n",
    "plt.tight_layout()\n",
    "plt.savefig(\"1.eps\", method=\".eps\")\n",
    "plt.show()\n",
    "\n",
    "plt.figure(figsize=size)\n",
    "pnz = np.array([ e != 0 for e in gate_values ]).mean(0)\n",
    "plt.scatter(x, pnz*100, c=\"royalblue\")\n",
    "plt.plot(x_ticks, pnz.reshape(-1, 12, 12).mean(0).mean(1)*100, c=\"red\")\n",
    "plt.xlabel(\"Layers\")\n",
    "plt.ylabel(\"Percentage\")\n",
    "plt.xticks(x_ticks)\n",
    "\n",
    "plt.tight_layout()\n",
    "plt.savefig(\"2.eps\", method=\".eps\")\n",
    "plt.show()\n",
    "\n",
    "\n",
    "plt.figure(figsize=size)\n",
    "nz = np.array([ e[e != 0].mean() for e in gate_values.transpose() ])\n",
    "plt.scatter(x, nz, c=\"royalblue\")\n",
    "plt.plot(x_ticks, nz.reshape(-1, 12, 12).mean(0).mean(1), c=\"red\")\n",
    "plt.xlabel(\"Layers\")\n",
    "plt.ylabel(\"Mean\")\n",
    "plt.xticks(x_ticks)\n",
    "\n",
    "plt.tight_layout()\n",
    "plt.savefig(\"3.eps\", method=\".eps\")\n",
    "plt.show()\n",
    "\n",
    "plt.figure(figsize=size)\n",
    "st = np.std(gate_values.transpose(), 1)\n",
    "plt.scatter(x, st, c=\"royalblue\")\n",
    "plt.plot(x_ticks, st.reshape(-1, 12, 12).mean(0).mean(1), c=\"red\")\n",
    "plt.xlabel(\"Layers\")\n",
    "plt.ylabel(\"Std dev\")\n",
    "plt.xticks(x_ticks)\n",
    "\n",
    "plt.tight_layout()\n",
    "plt.savefig(\"4.eps\", method=\".eps\")\n",
    "plt.show()"
   ]
  },
  {
   "cell_type": "markdown",
   "metadata": {},
   "source": [
    "* ## Schemas 2"
   ]
  },
  {
   "cell_type": "code",
   "execution_count": 66,
   "metadata": {
    "scrolled": true
   },
   "outputs": [],
   "source": [
    "# distance attention\n",
    "\n",
    "def get_idx_word_line(prev_line, line, voc_word_line):\n",
    "    # get word index in current line\n",
    "    if prev_line != line:\n",
    "        voc_word_line = {}\n",
    "        prev_line = line\n",
    "    \n",
    "    list_idx = [ i for i, e in enumerate(line.split(\" \")) if e == token ]\n",
    "    \n",
    "    if token not in voc_word_line:\n",
    "        voc_word_line[token] = 1\n",
    "    else:\n",
    "        voc_word_line[token] += 1\n",
    "    \n",
    "    return list_idx[voc_word_line[token]-1], prev_line, voc_word_line\n",
    "\n",
    "prev_line, voc_word_line = \"\", {}\n",
    "dist_att = [[] for _ in range(12*12)]\n",
    "for token, pos, dep, gates, att, line in gen_token():\n",
    "    \n",
    "    idx, prev_line, voc_word_line = get_idx_word_line(prev_line, line, voc_word_line)\n",
    "\n",
    "    # iter on attention\n",
    "    for i, a in enumerate([z for e in att for z in e]):\n",
    "        if a != 0:\n",
    "            # get most attended token\n",
    "            s = np.argmax(a)\n",
    "            dist_att[i] += [abs(s - idx)]"
   ]
  },
  {
   "cell_type": "code",
   "execution_count": 68,
   "metadata": {},
   "outputs": [],
   "source": [
    "# entropy mean\n",
    "\n",
    "entropy_gates = [[] for _ in range(12*12)]\n",
    "for token, pos, dep, gates, att, line in gen_token():\n",
    "    \n",
    "    # iter on attention\n",
    "    for i, a in enumerate([z for e in att for z in e]):\n",
    "        if a != 0:\n",
    "            entropy_gates[i] += [scipy.stats.entropy(a)]"
   ]
  },
  {
   "cell_type": "code",
   "execution_count": 69,
   "metadata": {
    "scrolled": false
   },
   "outputs": [
    {
     "data": {
      "image/png": "[encoded data removed]",
      "text/plain": [
       "<Figure size 576x216 with 1 Axes>"
      ]
     },
     "metadata": {},
     "output_type": "display_data"
    },
    {
     "data": {
      "image/png": "[encoded data removed]",
      "text/plain": [
       "<Figure size 576x216 with 1 Axes>"
      ]
     },
     "metadata": {},
     "output_type": "display_data"
    },
    {
     "data": {
      "image/png": "[encoded data removed]",
      "text/plain": [
       "<Figure size 576x216 with 1 Axes>"
      ]
     },
     "metadata": {},
     "output_type": "display_data"
    },
    {
     "data": {
      "image/png": "[encoded data removed]",
      "text/plain": [
       "<Figure size 576x216 with 1 Axes>"
      ]
     },
     "metadata": {},
     "output_type": "display_data"
    }
   ],
   "source": [
    "x_ticks = list(range(1, 13))\n",
    "x = np.array([ [i+1]*12 for i in range(12) ]).flatten()\n",
    "\n",
    "plt.figure(figsize=size)\n",
    "dm = np.array([ np.mean(e) for e in dist_att ])\n",
    "plt.scatter(x, dm, c=\"royalblue\")\n",
    "plt.plot(x_ticks, dm.reshape(-1, 12, 12).mean(0).mean(1), c=\"red\")\n",
    "plt.xlabel(\"Layers\")\n",
    "plt.ylabel(\"Avg. distance\")\n",
    "plt.xticks(x_ticks)\n",
    "\n",
    "plt.tight_layout()\n",
    "plt.savefig(\"5.eps\", method=\".eps\")\n",
    "plt.show()\n",
    "\n",
    "plt.figure(figsize=size)\n",
    "plt.scatter(x, dm * gate_values.mean(0), c=\"royalblue\")\n",
    "plt.plot(x_ticks, (dm * gate_values.mean(0)).reshape(-1, 12, 12).mean(0).mean(1), c=\"red\")\n",
    "plt.xlabel(\"Layers\")\n",
    "plt.ylabel(\"Avg. distance * gate value\")\n",
    "plt.xticks(x_ticks)\n",
    "\n",
    "plt.tight_layout()\n",
    "plt.savefig(\"6.eps\", method=\".eps\")\n",
    "plt.show()\n",
    "\n",
    "plt.figure(figsize=size)\n",
    "em = np.array([ np.mean(e) for e in entropy_gates ])\n",
    "plt.scatter(x, em, c=\"royalblue\")\n",
    "plt.plot(x_ticks, em.reshape(-1, 12, 12).mean(0).mean(1), c=\"red\")\n",
    "plt.xlabel(\"Layers\")\n",
    "plt.ylabel(\"Avg. entropy\")\n",
    "plt.xticks(x_ticks)\n",
    "\n",
    "plt.tight_layout()\n",
    "plt.savefig(\"7.eps\", method=\".eps\")\n",
    "plt.show()\n",
    "\n",
    "plt.figure(figsize=size)\n",
    "plt.scatter(x, em * gate_values.mean(0), c=\"royalblue\")\n",
    "plt.plot(x_ticks, (em * gate_values.mean(0)).reshape(-1, 12, 12).mean(0).mean(1), c=\"red\")\n",
    "plt.xlabel(\"Layers\")\n",
    "plt.ylabel(\"Avg. entropy * gate value\")\n",
    "plt.xticks(x_ticks)\n",
    "\n",
    "plt.tight_layout()\n",
    "plt.savefig(\"8.eps\", method=\".eps\")\n",
    "plt.show()"
   ]
  },
  {
   "cell_type": "markdown",
   "metadata": {},
   "source": [
    "### explain case of gate 13 and other gates"
   ]
  },
  {
   "cell_type": "code",
   "execution_count": 70,
   "metadata": {},
   "outputs": [],
   "source": [
    "# gate 13\n",
    "# low zero values, low distance attention, low entropy\n",
    "# gate 100\n",
    "# low zero values, low distance attention, high entropy"
   ]
  },
  {
   "cell_type": "code",
   "execution_count": 71,
   "metadata": {},
   "outputs": [],
   "source": [
    "def explore_gate(n_gate):\n",
    "    print (\"\\t\\tGlob\\t\\tGate\", n_gate)\n",
    "    mean_gates = gate_values.mean(0)\n",
    "    print (\"Mean value:\\t{}\\t\\t{}\".format(round(mean_gates.mean(0), 4),\n",
    "                                            round(mean_gates[n_gate], 4)))\n",
    "    print (\"non zero %:\\t{}\\t\\t{}\".format(round(pnz.mean(0), 4),\n",
    "                                          round(pnz[n_gate], 4)))\n",
    "    print (\"Mean distance:\\t{}\\t\\t{}\".format(round(dm.mean(0), 4),\n",
    "                                             round(dm[n_gate], 4)))\n",
    "    print (\"Mean entropy:\\t{}\\t\\t{}\".format(round(em.mean(0), 4),\n",
    "                                            round(em[n_gate], 4)))"
   ]
  },
  {
   "cell_type": "code",
   "execution_count": 72,
   "metadata": {},
   "outputs": [
    {
     "name": "stdout",
     "output_type": "stream",
     "text": [
      "\t\tGlob\t\tGate 13\n",
      "Mean value:\t0.063\t\t0.3938\n",
      "non zero %:\t0.2287\t\t0.8576\n",
      "Mean distance:\t6.5225\t\t1.0019\n",
      "Mean entropy:\t1.971\t\t0.3764\n"
     ]
    }
   ],
   "source": [
    "explore_gate(n_gate=13)"
   ]
  },
  {
   "cell_type": "code",
   "execution_count": 73,
   "metadata": {},
   "outputs": [
    {
     "name": "stdout",
     "output_type": "stream",
     "text": [
      "\t\tGlob\t\tGate 20\n",
      "Mean value:\t0.063\t\t0.0021\n",
      "non zero %:\t0.2287\t\t0.1095\n",
      "Mean distance:\t6.5225\t\t10.128\n",
      "Mean entropy:\t1.971\t\t2.873\n"
     ]
    }
   ],
   "source": [
    "explore_gate(n_gate=20)"
   ]
  },
  {
   "cell_type": "code",
   "execution_count": 74,
   "metadata": {},
   "outputs": [
    {
     "name": "stdout",
     "output_type": "stream",
     "text": [
      "\t\tGlob\t\tGate 131\n",
      "Mean value:\t0.063\t\t0.0727\n",
      "non zero %:\t0.2287\t\t0.2012\n",
      "Mean distance:\t6.5225\t\t6.1091\n",
      "Mean entropy:\t1.971\t\t2.4132\n"
     ]
    }
   ],
   "source": [
    "explore_gate(n_gate=131)"
   ]
  },
  {
   "cell_type": "markdown",
   "metadata": {},
   "source": [
    "### By string name"
   ]
  },
  {
   "cell_type": "code",
   "execution_count": 75,
   "metadata": {},
   "outputs": [],
   "source": [
    "def next_word(sentence, words, size_line, token, i):\n",
    "    while words[i] != token:\n",
    "        sentence += [ (\"UNK\", \"UNK\", np.zeros((12, size_line))) ]    \n",
    "        i += 1\n",
    "    return sentence, i + 1\n",
    "\n",
    "corpus = []\n",
    "prev_line = \"\"\n",
    "for token, pos, dep, gates, att, line in gen_token():\n",
    "\n",
    "    if prev_line != line:\n",
    "        if prev_line != \"\":\n",
    "            sentence += [(\"UNK\", \"SEP\", np.zeros((12, size_line)))]    \n",
    "            corpus += [sentence]\n",
    "        i = 1\n",
    "        words = line.split(\" \")\n",
    "        size_line = len(words)\n",
    "        prev_line = line\n",
    "        sentence = [(\"UNK\", \"CLS\", np.zeros((12, size_line)))]    \n",
    "\n",
    "    sentence, i = next_word(sentence, words, size_line, token, i)\n",
    "    att_layer = np.array([ np.sum([ np.zeros(size_line) if not e else e for e in l_a ], 0) for l_a in att ])\n",
    "\n",
    "    sentence += [(token, pos, att_layer)]"
   ]
  },
  {
   "cell_type": "code",
   "execution_count": 76,
   "metadata": {
    "scrolled": false
   },
   "outputs": [],
   "source": [
    "count = {}\n",
    "count_punct = {}\n",
    "count_coord = {}\n",
    "count_adp = {}\n",
    "count_layer = {}\n",
    "for sentence in corpus:\n",
    "    \n",
    "    att = np.array([ att for token, pos, att in sentence ])\n",
    "    toks = np.array([ token for token, pos, att in sentence ])\n",
    "    pos = np.array([ pos for token, pos, att in sentence ])\n",
    "    att = att.transpose(1, 0, 2).sum(1)\n",
    "\n",
    "    for i in range(len(pos)):\n",
    "        \n",
    "        if pos[i] not in count:\n",
    "            count[pos[i]] = []\n",
    "            count_layer[pos[i]] = []\n",
    "        if pos[i] == \"PUNCT\" and toks[i] not in count_punct:\n",
    "            count_punct[toks[i]] = []\n",
    "        if pos[i] == \"CCONJ\" and toks[i] not in count_coord:\n",
    "            count_coord[toks[i]] = []\n",
    "        if pos[i] == \"ADP\" and toks[i] not in count_adp:\n",
    "            count_adp[toks[i]] = []\n",
    "\n",
    "        if pos[i] == \"PUNCT\":\n",
    "            count_punct[toks[i]] += [att.sum(0)[i]]\n",
    "        if pos[i] == \"CCONJ\":\n",
    "            count_coord[toks[i]] += [att.sum(0)[i]]\n",
    "        if pos[i] == \"ADP\":\n",
    "            count_adp[toks[i]] += [att.sum(0)[i]]\n",
    "\n",
    "        count[pos[i]] += [att.sum(0)[i]]\n",
    "        count_layer[pos[i]] += [att[:,i]]"
   ]
  },
  {
   "cell_type": "code",
   "execution_count": 77,
   "metadata": {},
   "outputs": [
    {
     "name": "stdout",
     "output_type": "stream",
     "text": [
      "but       37        10.76     5.0\n",
      "or        9         9.44      4.0\n",
      "and       214       8.96      5.0\n"
     ]
    }
   ],
   "source": [
    "for k in sort(count_coord):\n",
    "    if len(count_coord[k]) > 5:\n",
    "        print (\"{:<10}{:<10}{:<10}{}\".format(k,\n",
    "                                             len(count_coord[k]),\n",
    "                                             round(np.mean(count_coord[k]), 2),\n",
    "                                             round(np.std(count_coord[k])), 2))"
   ]
  },
  {
   "cell_type": "code",
   "execution_count": 78,
   "metadata": {},
   "outputs": [
    {
     "name": "stdout",
     "output_type": "stream",
     "text": [
      ".         503       14.64     9.0\n",
      "\"         92        11.84     5.0\n",
      ",         439       10.91     6.0\n",
      "-         102       6.7       5.0\n"
     ]
    }
   ],
   "source": [
    "for k in sort(count_punct):\n",
    "    if len(count_punct[k]) > 5:\n",
    "        print (\"{:<10}{:<10}{:<10}{}\".format(k,\n",
    "                                             len(count_punct[k]),\n",
    "                                             round(np.mean(count_punct[k]), 2),\n",
    "                                             round(np.std(count_punct[k])), 2))"
   ]
  },
  {
   "cell_type": "markdown",
   "metadata": {},
   "source": [
    "## Received attention"
   ]
  },
  {
   "cell_type": "code",
   "execution_count": 79,
   "metadata": {},
   "outputs": [
    {
     "name": "stdout",
     "output_type": "stream",
     "text": [
      "POS       Freq      Mean      Std Dev   Non zero %\n",
      "\n",
      "mean 11.219684574156469\n",
      "SEP       529       27.59     16.0\n",
      "NOUN      2103      12.42     7.0\n",
      "PUNCT     1150      12.25     8.0\n",
      "VERB      1879      11.71     6.0\n",
      "PROPN     1105      11.07     6.0\n",
      "ADP       1455      10.51     6.0\n",
      "ADJ       741       10.15     5.0\n",
      "ADV       470       10.15     6.0\n",
      "UNK       707       9.69      6.0\n",
      "NUM       276       9.54      5.0\n",
      "CCONJ     261       9.24      5.0\n",
      "PRON      335       8.96      6.0\n",
      "DET       1283      8.13      4.0\n",
      "SYM       15        8.03      3.0\n",
      "PART      241       7.72      4.0\n",
      "CLS       529       5.3       3.0\n"
     ]
    }
   ],
   "source": [
    "print (\"{:<10}{:<10}{:<10}{:<10}{}\".format(\"POS\", \"Freq\", \"Mean\", \"Std Dev\", \"Non zero %\\n\"))\n",
    "print (\"mean\", np.array([ e for c in count for e in count[c] ]).mean())\n",
    "\n",
    "for k in sort(count):\n",
    "    if len(count[k]) > 10:\n",
    "        print (\"{:<10}{:<10}{:<10}{}\".format(k,\n",
    "                                             len(count[k]),\n",
    "                                             round(np.mean(count[k]), 2),\n",
    "                                             round(np.std(count[k])), 2))"
   ]
  },
  {
   "cell_type": "code",
   "execution_count": 80,
   "metadata": {
    "scrolled": true
   },
   "outputs": [
    {
     "name": "stdout",
     "output_type": "stream",
     "text": [
      "POS       Freq      Mean      Std Dev\n",
      "\n",
      "UNK       707       0.2317    0.4457\n",
      "DET       1283      0.2069    0.3455\n",
      "PUNCT     1150      0.1855    0.3095\n",
      "SEP       529       0.1838    0.4444\n",
      "PROPN     1105      0.1807    0.4743\n",
      "ADP       1455      0.1792    0.2133\n",
      "PART      241       0.1766    0.2314\n",
      "ADV       470       0.1746    0.2863\n",
      "CLS       529       0.1708    0.2779\n",
      "VERB      1879      0.1691    0.3671\n",
      "CCONJ     261       0.1655    0.2135\n",
      "PRON      335       0.1637    0.3067\n",
      "ADJ       741       0.1604    0.3058\n",
      "NOUN      2103      0.1559    0.3206\n",
      "NUM       276       0.1343    0.1575\n",
      "SYM       15        0.1311    0.1224\n",
      "\n",
      "\n",
      "\n",
      "POS       Freq      Mean      Std Dev\n",
      "\n",
      "SYM       15        0.6018    0.7473\n",
      "PART      241       0.5721    0.7306\n",
      "ADP       1455      0.5411    0.9848\n",
      "VERB      1879      0.5387    0.9352\n",
      "PUNCT     1150      0.5288    0.6577\n",
      "PRON      335       0.4886    0.7324\n",
      "CCONJ     261       0.4728    0.6881\n",
      "DET       1283      0.4681    0.722\n",
      "NUM       276       0.4008    0.8843\n",
      "SEP       529       0.3851    1.0889\n",
      "NOUN      2103      0.3745    1.0492\n",
      "ADV       470       0.3714    0.7888\n",
      "UNK       707       0.3608    0.8375\n",
      "ADJ       741       0.3591    0.8769\n",
      "CLS       529       0.304     0.8925\n",
      "PROPN     1105      0.2895    0.5552\n",
      "\n",
      "\n",
      "\n",
      "POS       Freq      Mean      Std Dev\n",
      "\n",
      "CLS       529       0.4606    0.8456\n",
      "SEP       529       0.4548    1.5703\n",
      "PUNCT     1150      0.3072    0.5168\n",
      "ADV       470       0.3064    0.6464\n",
      "VERB      1879      0.3016    0.4138\n",
      "CCONJ     261       0.2978    0.3343\n",
      "ADP       1455      0.2876    0.4829\n",
      "UNK       707       0.262     0.8201\n",
      "NUM       276       0.2604    0.772\n",
      "PROPN     1105      0.2388    0.4485\n",
      "PART      241       0.2363    0.3366\n",
      "NOUN      2103      0.2252    0.3829\n",
      "DET       1283      0.2193    0.3647\n",
      "PRON      335       0.211     0.3211\n",
      "ADJ       741       0.1757    0.3103\n",
      "SYM       15        0.1164    0.1179\n",
      "\n",
      "\n",
      "\n",
      "POS       Freq      Mean      Std Dev\n",
      "\n",
      "ADV       470       0.789     2.4114\n",
      "VERB      1879      0.766     0.995\n",
      "CLS       529       0.7125    0.7963\n",
      "PART      241       0.6509    0.995\n",
      "ADP       1455      0.6463    1.0094\n",
      "SEP       529       0.6268    0.7411\n",
      "NOUN      2103      0.6125    1.0754\n",
      "ADJ       741       0.5937    0.901\n",
      "PRON      335       0.5883    0.8564\n",
      "UNK       707       0.5361    1.1486\n",
      "DET       1283      0.5249    0.6782\n",
      "CCONJ     261       0.5086    0.7667\n",
      "SYM       15        0.5026    0.8983\n",
      "PROPN     1105      0.4882    0.7638\n",
      "NUM       276       0.4795    0.6289\n",
      "PUNCT     1150      0.3667    0.7908\n",
      "\n",
      "\n",
      "\n",
      "POS       Freq      Mean      Std Dev\n",
      "\n",
      "SEP       529       2.8317    2.3325\n",
      "CCONJ     261       1.1043    0.9761\n",
      "NOUN      2103      1.1031    1.3818\n",
      "ADV       470       1.0883    1.3041\n",
      "UNK       707       1.0567    1.4148\n",
      "VERB      1879      1.0392    1.0959\n",
      "NUM       276       1.0063    1.1909\n",
      "ADJ       741       0.9673    0.9783\n",
      "PRON      335       0.9402    1.7922\n",
      "PROPN     1105      0.8817    0.9766\n",
      "ADP       1455      0.8768    1.2683\n",
      "SYM       15        0.824     0.4811\n",
      "PART      241       0.7507    1.0305\n",
      "CLS       529       0.7271    0.5983\n",
      "DET       1283      0.7105    1.1027\n",
      "PUNCT     1150      0.7079    1.4224\n",
      "\n",
      "\n",
      "\n",
      "POS       Freq      Mean      Std Dev\n",
      "\n",
      "SEP       529       3.5569    3.1321\n",
      "VERB      1879      1.4768    1.8845\n",
      "ADV       470       1.251     1.4375\n",
      "NOUN      2103      1.2499    1.7641\n",
      "ADJ       741       1.1743    1.3534\n",
      "UNK       707       1.1474    1.919\n",
      "NUM       276       1.1244    1.4024\n",
      "CCONJ     261       1.1174    1.3908\n",
      "PRON      335       1.0868    1.2911\n",
      "ADP       1455      1.0867    1.585\n",
      "PROPN     1105      1.0809    1.6864\n",
      "DET       1283      0.9624    1.7923\n",
      "SYM       15        0.9125    0.6333\n",
      "PART      241       0.6277    0.8936\n",
      "PUNCT     1150      0.6203    0.8689\n",
      "CLS       529       0.3082    0.2788\n",
      "\n",
      "\n",
      "\n",
      "POS       Freq      Mean      Std Dev\n",
      "\n",
      "SEP       529       3.0953    3.1829\n",
      "ADP       1455      1.504     2.1057\n",
      "SYM       15        1.4906    1.0006\n",
      "VERB      1879      1.4255    1.8367\n",
      "ADV       470       1.3841    1.6996\n",
      "NOUN      2103      1.3789    1.8007\n",
      "ADJ       741       1.2812    1.4933\n",
      "UNK       707       1.2556    1.7965\n",
      "NUM       276       1.1846    1.8481\n",
      "PROPN     1105      1.1648    1.6696\n",
      "CCONJ     261       1.1425    1.4732\n",
      "PRON      335       1.1245    1.6004\n",
      "DET       1283      0.9928    1.2834\n",
      "PUNCT     1150      0.8359    1.2798\n",
      "PART      241       0.8151    1.5067\n",
      "CLS       529       0.3113    0.591\n",
      "\n",
      "\n",
      "\n",
      "POS       Freq      Mean      Std Dev\n",
      "\n",
      "SEP       529       2.9357    2.9077\n",
      "NOUN      2103      1.8476    2.1933\n",
      "VERB      1879      1.6977    2.1533\n",
      "ADP       1455      1.6437    2.1475\n",
      "PROPN     1105      1.5389    2.3867\n",
      "CCONJ     261       1.5143    1.9435\n",
      "ADJ       741       1.3906    1.8802\n",
      "ADV       470       1.3374    1.4748\n",
      "UNK       707       1.2014    1.8284\n",
      "NUM       276       1.065     1.0341\n",
      "PUNCT     1150      1.0246    1.5945\n",
      "PRON      335       0.9651    3.1021\n",
      "SYM       15        0.96      0.6839\n",
      "DET       1283      0.9456    1.6047\n",
      "PART      241       0.9078    0.9879\n",
      "CLS       529       0.4182    0.6755\n",
      "\n",
      "\n",
      "\n",
      "POS       Freq      Mean      Std Dev\n",
      "\n",
      "SEP       529       5.4266    5.3303\n",
      "VERB      1879      1.7319    2.2077\n",
      "NOUN      2103      1.5704    1.925\n",
      "ADP       1455      1.5528    1.9013\n",
      "PROPN     1105      1.4113    2.1895\n",
      "ADV       470       1.3658    1.6529\n",
      "CCONJ     261       1.2601    1.5151\n",
      "PART      241       1.2541    1.4504\n",
      "ADJ       741       1.2469    1.8015\n",
      "PRON      335       1.2013    1.5023\n",
      "DET       1283      1.1959    1.4652\n",
      "NUM       276       1.1822    1.6085\n",
      "UNK       707       1.1416    1.6524\n",
      "PUNCT     1150      1.117     1.3837\n",
      "CLS       529       0.4472    0.4608\n",
      "SYM       15        0.4421    0.3765\n",
      "\n",
      "\n",
      "\n",
      "POS       Freq      Mean      Std Dev\n",
      "\n",
      "SEP       529       3.6747    4.1661\n",
      "NOUN      2103      1.5334    2.4547\n",
      "PROPN     1105      1.4791    2.5337\n",
      "ADJ       741       1.0756    1.9899\n",
      "VERB      1879      0.9975    1.7021\n",
      "ADV       470       0.8708    1.794\n",
      "ADP       1455      0.8451    1.5917\n",
      "UNK       707       0.786     1.2308\n",
      "PUNCT     1150      0.7471    1.0372\n",
      "NUM       276       0.7178    0.9914\n",
      "PRON      335       0.6606    1.1819\n",
      "SYM       15        0.6024    0.5659\n",
      "DET       1283      0.5991    0.8248\n",
      "CCONJ     261       0.5975    0.8871\n",
      "PART      241       0.5903    0.9534\n",
      "CLS       529       0.2606    0.3348\n",
      "\n",
      "\n",
      "\n",
      "POS       Freq      Mean      Std Dev\n",
      "\n",
      "PUNCT     1150      2.7243    4.3377\n",
      "SEP       529       2.071     2.7373\n",
      "NOUN      2103      1.4787    2.7098\n",
      "PROPN     1105      1.2996    2.0337\n",
      "ADJ       741       0.9735    1.5482\n",
      "UNK       707       0.9332    1.599\n",
      "NUM       276       0.9307    1.5557\n",
      "VERB      1879      0.8838    1.292\n",
      "SYM       15        0.8582    1.5713\n",
      "PRON      335       0.8332    1.7193\n",
      "DET       1283      0.7321    1.0328\n",
      "ADP       1455      0.6888    0.9429\n",
      "ADV       470       0.6137    0.9489\n",
      "PART      241       0.5898    0.8068\n",
      "CLS       529       0.5858    1.0747\n",
      "CCONJ     261       0.4813    0.7646\n",
      "\n",
      "\n",
      "\n",
      "POS       Freq      Mean      Std Dev\n",
      "\n",
      "PUNCT     1150      3.0861    4.3069\n",
      "SEP       529       2.3487    2.9862\n",
      "NUM       276       1.0583    2.4941\n",
      "PROPN     1105      1.015     1.661\n",
      "NOUN      2103      0.8904    1.2679\n",
      "UNK       707       0.7822    0.8713\n",
      "ADJ       741       0.7504    0.9247\n",
      "PRON      335       0.6949    0.7328\n",
      "VERB      1879      0.6869    0.9633\n",
      "ADP       1455      0.6612    1.0253\n",
      "ADV       470       0.5936    1.0602\n",
      "CLS       529       0.5922    0.6054\n",
      "SYM       15        0.5845    0.5919\n",
      "CCONJ     261       0.5768    0.814\n",
      "DET       1283      0.573     0.643\n",
      "PART      241       0.5532    0.7971\n",
      "\n",
      "\n",
      "\n"
     ]
    }
   ],
   "source": [
    "def sort_layer(n_layer):\n",
    "    sort = lambda z : sorted(z, key=lambda x: -np.mean(np.array(z[x])[:,n_layer]))\n",
    "\n",
    "    print (\"{:<10}{:<10}{:<10}{}\".format(\"POS\", \"Freq\", \"Mean\", \"Std Dev\\n\"))\n",
    "    for k in sort(count_layer):\n",
    "        layer_gates = np.array(count_layer[k])[:,n_layer]\n",
    "        if len(layer_gates) > 10:\n",
    "            print (\"{:<10}{:<10}{:<10}{}\".format(k,\n",
    "                                             len(layer_gates),\n",
    "                                             round(layer_gates.mean(), 4),\n",
    "                                             round(np.std(layer_gates), 4)))\n",
    "\n",
    "for i in range(12):\n",
    "    sort_layer(n_layer=i)\n",
    "    print (\"\\n\\n\")"
   ]
  },
  {
   "cell_type": "code",
   "execution_count": 84,
   "metadata": {},
   "outputs": [
    {
     "name": "stdout",
     "output_type": "stream",
     "text": [
      "PROPN     0.8443587356640214\n",
      "PUNCT     0.8127485550506798\n",
      "NOUN      0.7537920646730759\n",
      "NUM       0.7237044665118191\n",
      "ADJ       0.6677472676239431\n",
      "SEP       0.6632437214802266\n",
      "UNK       0.6165734887295132\n",
      "PRON      0.5629126858803801\n",
      "DET       0.5390210807006174\n",
      "VERB      0.49452078774170055\n",
      "ADP       0.4642811348987798\n",
      "PART      0.4641796054243494\n",
      "ADV       0.4172618879830808\n",
      "SYM       0.3799058310969631\n",
      "CCONJ     0.34111076396954837\n",
      "CLS       0.24566872004082918\n"
     ]
    }
   ],
   "source": [
    "coeff = [ (k, np.corrcoef(np.arange(12), layer_mean(count_layer[k]))[0][1]) for k in count_layer ]\n",
    "for k, val in sorted(coeff, key=lambda x: -x[1]):\n",
    "    if len(count_layer[k]) > 10:\n",
    "        print (\"{:<10}{}\".format(k, val))"
   ]
  },
  {
   "cell_type": "code",
   "execution_count": 83,
   "metadata": {},
   "outputs": [
    {
     "data": {
      "image/png": "[encoded data removed]",
      "text/plain": [
       "<Figure size 720x720 with 1 Axes>"
      ]
     },
     "metadata": {},
     "output_type": "display_data"
    }
   ],
   "source": [
    "merge = [[\"PROPN\", \"NOUN\", \"ADJ\"], [\"ADV\", \"VERB\"], [\"ADP\"], [\"DET\"], [\"PUNCT\"] ]\n",
    "merge = [[\"PUNCT\"], [\"DET\"], [\"ADP\", \"CCONJ\"], [\"ADV\", \"VERB\"], [\"PROPN\", \"NOUN\", \"ADJ\"]]\n",
    "\n",
    "fig, ax = plt.subplots(figsize=(10, 10))\n",
    "index = np.arange(6)\n",
    "bar_width = 1/(len(list(count_layer)) + 2)\n",
    "opacity = 0.8\n",
    "\n",
    "for i, k in enumerate(count_layer):\n",
    "    val = np.array(slice_mean(layer_mean(count_layer[k]), 2))\n",
    "\n",
    "    plt.bar(index + bar_width * i, val, bar_width, alpha=opacity, label=k)\n",
    "\n",
    "plt.xlabel('Layers')\n",
    "plt.ylabel('Avg. nb. of gates')\n",
    "\n",
    "#plt.xticks(index + bar_width, [ str((i+1)*2-1) + \" - \" + str((i+1)*2) for i in np.arange(12)])\n",
    "plt.legend()\n",
    "\n",
    "plt.tight_layout()\n",
    "#plt.savefig(\"9.eps\", method=\".eps\")\n",
    "plt.show()"
   ]
  },
  {
   "cell_type": "markdown",
   "metadata": {},
   "source": [
    "* ## Viz"
   ]
  },
  {
   "cell_type": "code",
   "execution_count": 38,
   "metadata": {},
   "outputs": [],
   "source": [
    "def get_sentence_attention(n_sentence):\n",
    "    def next_word(sentence, words, size_line, token, i):\n",
    "        while words[i] != token:\n",
    "            sentence += [ (\"UNK\", np.zeros((12, size_line))) ]\n",
    "            i += 1\n",
    "        return sentence, i + 1\n",
    "\n",
    "    prev_line = \"\"\n",
    "    for token, pos, dep, gates, att, line in gen_token(n_sentence):\n",
    "\n",
    "        if prev_line != \"\" and prev_line != line:\n",
    "            break\n",
    "\n",
    "        if prev_line != line:\n",
    "            i = 0\n",
    "            sentence = []\n",
    "            words = line.split(\" \")\n",
    "            size_line = len(words)\n",
    "            prev_line = line\n",
    "\n",
    "        sentence, i = next_word(sentence, words, size_line, token, i)\n",
    "        sentence += [(token, att)]\n",
    "\n",
    "    sentence += [(\"UNK\", np.zeros((12, size_line)))]    \n",
    "\n",
    "    return sentence, words, size_line\n",
    "\n",
    "def get_sentence_layer_attention(sentence, size_line):\n",
    "    mat = []\n",
    "    for token, att in sentence:\n",
    "        att_layer = np.array([ np.sum([ np.zeros(size_line) if not e else e for e in l_a ], 0)\n",
    "                              for l_a in att ])\n",
    "        mat += [att_layer]\n",
    "    return np.array(mat)\n",
    "\n",
    "def get_norm_sentence_layer(mat, normalize=True):\n",
    "    res = []\n",
    "    for layer in mat.transpose(1, 0, 2):\n",
    "        norm = [ (e / (e.sum() if (normalize and e.sum()) else 1)) for e in layer ]\n",
    "        res += [np.sum(norm, 0)]\n",
    "    return np.array(res)\n",
    "\n",
    "def get_full_norm_sentence_layer(mat, normalize=True):\n",
    "    res = []\n",
    "    for layer in mat.transpose(1, 0, 2):\n",
    "        norm = [ (e / (e.sum() if (normalize and e.sum()) else 1)) for e in layer ]\n",
    "        res += [norm]\n",
    "    return np.array(res)\n",
    "\n",
    "def plot_attended_token(res, words, scale=12):\n",
    "    res = np.transpose(res).reshape(res.shape[1], scale, -1).sum(2)\n",
    "\n",
    "    plt.figure(figsize = (15, 15))\n",
    "    plt.imshow(res)\n",
    "\n",
    "    for i, l in enumerate(words):\n",
    "        plt.text(scale, i+.2, l, fontsize=20)"
   ]
  },
  {
   "cell_type": "code",
   "execution_count": 39,
   "metadata": {},
   "outputs": [
    {
     "ename": "ValueError",
     "evalue": "setting an array element with a sequence.",
     "output_type": "error",
     "traceback": [
      "\u001b[0;31m---------------------------------------------------------------------------\u001b[0m",
      "\u001b[0;31mAttributeError\u001b[0m                            Traceback (most recent call last)",
      "\u001b[0;32m~/miniconda3/lib/python3.7/site-packages/numpy/core/fromnumeric.py\u001b[0m in \u001b[0;36mshape\u001b[0;34m(a)\u001b[0m\n\u001b[1;32m   1694\u001b[0m     \u001b[0;32mtry\u001b[0m\u001b[0;34m:\u001b[0m\u001b[0;34m\u001b[0m\u001b[0;34m\u001b[0m\u001b[0m\n\u001b[0;32m-> 1695\u001b[0;31m         \u001b[0mresult\u001b[0m \u001b[0;34m=\u001b[0m \u001b[0ma\u001b[0m\u001b[0;34m.\u001b[0m\u001b[0mshape\u001b[0m\u001b[0;34m\u001b[0m\u001b[0;34m\u001b[0m\u001b[0m\n\u001b[0m\u001b[1;32m   1696\u001b[0m     \u001b[0;32mexcept\u001b[0m \u001b[0mAttributeError\u001b[0m\u001b[0;34m:\u001b[0m\u001b[0;34m\u001b[0m\u001b[0;34m\u001b[0m\u001b[0m\n",
      "\u001b[0;31mAttributeError\u001b[0m: 'list' object has no attribute 'shape'",
      "\nDuring handling of the above exception, another exception occurred:\n",
      "\u001b[0;31mValueError\u001b[0m                                Traceback (most recent call last)",
      "\u001b[0;32m<ipython-input-39-8f0a3a04116d>\u001b[0m in \u001b[0;36m<module>\u001b[0;34m()\u001b[0m\n\u001b[0;32m----> 1\u001b[0;31m \u001b[0msentence\u001b[0m\u001b[0;34m,\u001b[0m \u001b[0mwords\u001b[0m\u001b[0;34m,\u001b[0m \u001b[0msize_line\u001b[0m \u001b[0;34m=\u001b[0m \u001b[0mget_sentence_attention\u001b[0m\u001b[0;34m(\u001b[0m\u001b[0mn_sentence\u001b[0m\u001b[0;34m=\u001b[0m\u001b[0;36m388\u001b[0m\u001b[0;34m)\u001b[0m\u001b[0;34m\u001b[0m\u001b[0;34m\u001b[0m\u001b[0m\n\u001b[0m",
      "\u001b[0;32m<ipython-input-38-28081b69dd76>\u001b[0m in \u001b[0;36mget_sentence_attention\u001b[0;34m(n_sentence)\u001b[0m\n\u001b[1;32m     20\u001b[0m \u001b[0;34m\u001b[0m\u001b[0m\n\u001b[1;32m     21\u001b[0m         \u001b[0msentence\u001b[0m\u001b[0;34m,\u001b[0m \u001b[0mi\u001b[0m \u001b[0;34m=\u001b[0m \u001b[0mnext_word\u001b[0m\u001b[0;34m(\u001b[0m\u001b[0msentence\u001b[0m\u001b[0;34m,\u001b[0m \u001b[0mwords\u001b[0m\u001b[0;34m,\u001b[0m \u001b[0msize_line\u001b[0m\u001b[0;34m,\u001b[0m \u001b[0mtoken\u001b[0m\u001b[0;34m,\u001b[0m \u001b[0mi\u001b[0m\u001b[0;34m)\u001b[0m\u001b[0;34m\u001b[0m\u001b[0;34m\u001b[0m\u001b[0m\n\u001b[0;32m---> 22\u001b[0;31m         \u001b[0mprint\u001b[0m \u001b[0;34m(\u001b[0m\u001b[0mnp\u001b[0m\u001b[0;34m.\u001b[0m\u001b[0mshape\u001b[0m\u001b[0;34m(\u001b[0m\u001b[0matt\u001b[0m\u001b[0;34m)\u001b[0m\u001b[0;34m)\u001b[0m\u001b[0;34m\u001b[0m\u001b[0;34m\u001b[0m\u001b[0m\n\u001b[0m\u001b[1;32m     23\u001b[0m         \u001b[0msentence\u001b[0m \u001b[0;34m+=\u001b[0m \u001b[0;34m[\u001b[0m\u001b[0;34m(\u001b[0m\u001b[0mtoken\u001b[0m\u001b[0;34m,\u001b[0m \u001b[0matt\u001b[0m\u001b[0;34m)\u001b[0m\u001b[0;34m]\u001b[0m\u001b[0;34m\u001b[0m\u001b[0;34m\u001b[0m\u001b[0m\n\u001b[1;32m     24\u001b[0m \u001b[0;34m\u001b[0m\u001b[0m\n",
      "\u001b[0;32m~/miniconda3/lib/python3.7/site-packages/numpy/core/fromnumeric.py\u001b[0m in \u001b[0;36mshape\u001b[0;34m(a)\u001b[0m\n\u001b[1;32m   1695\u001b[0m         \u001b[0mresult\u001b[0m \u001b[0;34m=\u001b[0m \u001b[0ma\u001b[0m\u001b[0;34m.\u001b[0m\u001b[0mshape\u001b[0m\u001b[0;34m\u001b[0m\u001b[0;34m\u001b[0m\u001b[0m\n\u001b[1;32m   1696\u001b[0m     \u001b[0;32mexcept\u001b[0m \u001b[0mAttributeError\u001b[0m\u001b[0;34m:\u001b[0m\u001b[0;34m\u001b[0m\u001b[0;34m\u001b[0m\u001b[0m\n\u001b[0;32m-> 1697\u001b[0;31m         \u001b[0mresult\u001b[0m \u001b[0;34m=\u001b[0m \u001b[0masarray\u001b[0m\u001b[0;34m(\u001b[0m\u001b[0ma\u001b[0m\u001b[0;34m)\u001b[0m\u001b[0;34m.\u001b[0m\u001b[0mshape\u001b[0m\u001b[0;34m\u001b[0m\u001b[0;34m\u001b[0m\u001b[0m\n\u001b[0m\u001b[1;32m   1698\u001b[0m     \u001b[0;32mreturn\u001b[0m \u001b[0mresult\u001b[0m\u001b[0;34m\u001b[0m\u001b[0;34m\u001b[0m\u001b[0m\n\u001b[1;32m   1699\u001b[0m \u001b[0;34m\u001b[0m\u001b[0m\n",
      "\u001b[0;32m~/miniconda3/lib/python3.7/site-packages/numpy/core/numeric.py\u001b[0m in \u001b[0;36masarray\u001b[0;34m(a, dtype, order)\u001b[0m\n\u001b[1;32m    499\u001b[0m \u001b[0;34m\u001b[0m\u001b[0m\n\u001b[1;32m    500\u001b[0m     \"\"\"\n\u001b[0;32m--> 501\u001b[0;31m     \u001b[0;32mreturn\u001b[0m \u001b[0marray\u001b[0m\u001b[0;34m(\u001b[0m\u001b[0ma\u001b[0m\u001b[0;34m,\u001b[0m \u001b[0mdtype\u001b[0m\u001b[0;34m,\u001b[0m \u001b[0mcopy\u001b[0m\u001b[0;34m=\u001b[0m\u001b[0;32mFalse\u001b[0m\u001b[0;34m,\u001b[0m \u001b[0morder\u001b[0m\u001b[0;34m=\u001b[0m\u001b[0morder\u001b[0m\u001b[0;34m)\u001b[0m\u001b[0;34m\u001b[0m\u001b[0;34m\u001b[0m\u001b[0m\n\u001b[0m\u001b[1;32m    502\u001b[0m \u001b[0;34m\u001b[0m\u001b[0m\n\u001b[1;32m    503\u001b[0m \u001b[0;34m\u001b[0m\u001b[0m\n",
      "\u001b[0;31mValueError\u001b[0m: setting an array element with a sequence."
     ]
    }
   ],
   "source": [
    "sentence, words, size_line = get_sentence_attention(n_sentence=388)"
   ]
  },
  {
   "cell_type": "code",
   "execution_count": 62,
   "metadata": {},
   "outputs": [
    {
     "data": {
      "text/plain": [
       "[0,\n",
       " 0,\n",
       " 0,\n",
       " 0,\n",
       " 0,\n",
       " 0,\n",
       " 0,\n",
       " [5.7713819842319936e-05,\n",
       "  5.436301216832362e-05,\n",
       "  3.942469265894033e-05,\n",
       "  5.6765376939438283e-05,\n",
       "  4.686877582571469e-05,\n",
       "  4.886048918706365e-05,\n",
       "  5.6153447076212615e-05,\n",
       "  8.135339885484427e-05,\n",
       "  0.00019797497952822596,\n",
       "  7.72574931033887e-05,\n",
       "  8.25165188871324e-05,\n",
       "  5.4670730605721474e-05,\n",
       "  7.189412281149998e-05,\n",
       "  5.6994576880242676e-05,\n",
       "  4.943257590639405e-05,\n",
       "  8.39844869915396e-05,\n",
       "  4.286903276806697e-05,\n",
       "  5.1592211093520746e-05,\n",
       "  8.37614425108768e-05,\n",
       "  6.236280751181766e-05],\n",
       " 0,\n",
       " 0,\n",
       " 0,\n",
       " 0,\n",
       " [7.710082741141377e-07,\n",
       "  7.581718932669901e-07,\n",
       "  5.911001039748953e-07,\n",
       "  9.08686217826471e-07,\n",
       "  7.277995450749586e-07,\n",
       "  7.505295229748299e-07,\n",
       "  8.078746418505034e-07,\n",
       "  1.2555226476251846e-06,\n",
       "  9.960465376934735e-07,\n",
       "  1.2019173709632014e-06,\n",
       "  1.1214835922146449e-06,\n",
       "  7.299466915355879e-07,\n",
       "  1.0418530109745916e-06,\n",
       "  2.640245838847477e-06,\n",
       "  7.758584388284362e-07,\n",
       "  1.1231649068577099e-06,\n",
       "  6.184754965943284e-07,\n",
       "  7.718289793956501e-07,\n",
       "  1.1149006695632124e-06,\n",
       "  7.704105087213975e-07],\n",
       " 0,\n",
       " 0,\n",
       " 0,\n",
       " 0,\n",
       " 0]"
      ]
     },
     "execution_count": 62,
     "metadata": {},
     "output_type": "execute_result"
    }
   ],
   "source": [
    "[ att[0][0] for token, att in sentence[1:-1] ]"
   ]
  },
  {
   "cell_type": "code",
   "execution_count": 48,
   "metadata": {},
   "outputs": [
    {
     "ename": "ValueError",
     "evalue": "setting an array element with a sequence.",
     "output_type": "error",
     "traceback": [
      "\u001b[0;31m---------------------------------------------------------------------------\u001b[0m",
      "\u001b[0;31mValueError\u001b[0m                                Traceback (most recent call last)",
      "\u001b[0;32m<ipython-input-48-e4d8b16205b5>\u001b[0m in \u001b[0;36m<module>\u001b[0;34m()\u001b[0m\n\u001b[0;32m----> 1\u001b[0;31m \u001b[0mmat\u001b[0m \u001b[0;34m=\u001b[0m \u001b[0mnp\u001b[0m\u001b[0;34m.\u001b[0m\u001b[0marray\u001b[0m\u001b[0;34m(\u001b[0m\u001b[0;34m[\u001b[0m \u001b[0mnp\u001b[0m\u001b[0;34m.\u001b[0m\u001b[0marray\u001b[0m\u001b[0;34m(\u001b[0m\u001b[0matt\u001b[0m\u001b[0;34m)\u001b[0m\u001b[0;34m.\u001b[0m\u001b[0msum\u001b[0m\u001b[0;34m(\u001b[0m\u001b[0;36m1\u001b[0m\u001b[0;34m)\u001b[0m \u001b[0;32mfor\u001b[0m \u001b[0m_\u001b[0m\u001b[0;34m,\u001b[0m \u001b[0matt\u001b[0m \u001b[0;32min\u001b[0m \u001b[0msentence\u001b[0m\u001b[0;34m[\u001b[0m\u001b[0;36m1\u001b[0m\u001b[0;34m:\u001b[0m\u001b[0;34m-\u001b[0m\u001b[0;36m1\u001b[0m\u001b[0;34m]\u001b[0m \u001b[0;34m]\u001b[0m\u001b[0;34m)\u001b[0m\u001b[0;34m\u001b[0m\u001b[0;34m\u001b[0m\u001b[0m\n\u001b[0m\u001b[1;32m      2\u001b[0m \u001b[0mmat\u001b[0m \u001b[0;34m=\u001b[0m \u001b[0mmat\u001b[0m\u001b[0;34m.\u001b[0m\u001b[0mtranspose\u001b[0m\u001b[0;34m(\u001b[0m\u001b[0;36m1\u001b[0m\u001b[0;34m,\u001b[0m \u001b[0;36m0\u001b[0m\u001b[0;34m,\u001b[0m \u001b[0;36m2\u001b[0m\u001b[0;34m)\u001b[0m\u001b[0;34m\u001b[0m\u001b[0;34m\u001b[0m\u001b[0m\n\u001b[1;32m      3\u001b[0m \u001b[0mmat\u001b[0m \u001b[0;34m=\u001b[0m \u001b[0mmat\u001b[0m\u001b[0;34m[\u001b[0m\u001b[0;34m:\u001b[0m\u001b[0;34m,\u001b[0m\u001b[0;34m:\u001b[0m\u001b[0;34m-\u001b[0m\u001b[0;36m1\u001b[0m\u001b[0;34m,\u001b[0m\u001b[0;36m1\u001b[0m\u001b[0;34m:\u001b[0m\u001b[0;34m-\u001b[0m\u001b[0;36m2\u001b[0m\u001b[0;34m]\u001b[0m\u001b[0;34m\u001b[0m\u001b[0;34m\u001b[0m\u001b[0m\n\u001b[1;32m      4\u001b[0m \u001b[0;34m\u001b[0m\u001b[0m\n\u001b[1;32m      5\u001b[0m \u001b[0mlay_sum\u001b[0m \u001b[0;34m=\u001b[0m \u001b[0;34m[\u001b[0m\u001b[0;34m]\u001b[0m\u001b[0;34m\u001b[0m\u001b[0;34m\u001b[0m\u001b[0m\n",
      "\u001b[0;32m<ipython-input-48-e4d8b16205b5>\u001b[0m in \u001b[0;36m<listcomp>\u001b[0;34m(.0)\u001b[0m\n\u001b[0;32m----> 1\u001b[0;31m \u001b[0mmat\u001b[0m \u001b[0;34m=\u001b[0m \u001b[0mnp\u001b[0m\u001b[0;34m.\u001b[0m\u001b[0marray\u001b[0m\u001b[0;34m(\u001b[0m\u001b[0;34m[\u001b[0m \u001b[0mnp\u001b[0m\u001b[0;34m.\u001b[0m\u001b[0marray\u001b[0m\u001b[0;34m(\u001b[0m\u001b[0matt\u001b[0m\u001b[0;34m)\u001b[0m\u001b[0;34m.\u001b[0m\u001b[0msum\u001b[0m\u001b[0;34m(\u001b[0m\u001b[0;36m1\u001b[0m\u001b[0;34m)\u001b[0m \u001b[0;32mfor\u001b[0m \u001b[0m_\u001b[0m\u001b[0;34m,\u001b[0m \u001b[0matt\u001b[0m \u001b[0;32min\u001b[0m \u001b[0msentence\u001b[0m\u001b[0;34m[\u001b[0m\u001b[0;36m1\u001b[0m\u001b[0;34m:\u001b[0m\u001b[0;34m-\u001b[0m\u001b[0;36m1\u001b[0m\u001b[0;34m]\u001b[0m \u001b[0;34m]\u001b[0m\u001b[0;34m)\u001b[0m\u001b[0;34m\u001b[0m\u001b[0;34m\u001b[0m\u001b[0m\n\u001b[0m\u001b[1;32m      2\u001b[0m \u001b[0mmat\u001b[0m \u001b[0;34m=\u001b[0m \u001b[0mmat\u001b[0m\u001b[0;34m.\u001b[0m\u001b[0mtranspose\u001b[0m\u001b[0;34m(\u001b[0m\u001b[0;36m1\u001b[0m\u001b[0;34m,\u001b[0m \u001b[0;36m0\u001b[0m\u001b[0;34m,\u001b[0m \u001b[0;36m2\u001b[0m\u001b[0;34m)\u001b[0m\u001b[0;34m\u001b[0m\u001b[0;34m\u001b[0m\u001b[0m\n\u001b[1;32m      3\u001b[0m \u001b[0mmat\u001b[0m \u001b[0;34m=\u001b[0m \u001b[0mmat\u001b[0m\u001b[0;34m[\u001b[0m\u001b[0;34m:\u001b[0m\u001b[0;34m,\u001b[0m\u001b[0;34m:\u001b[0m\u001b[0;34m-\u001b[0m\u001b[0;36m1\u001b[0m\u001b[0;34m,\u001b[0m\u001b[0;36m1\u001b[0m\u001b[0;34m:\u001b[0m\u001b[0;34m-\u001b[0m\u001b[0;36m2\u001b[0m\u001b[0;34m]\u001b[0m\u001b[0;34m\u001b[0m\u001b[0;34m\u001b[0m\u001b[0m\n\u001b[1;32m      4\u001b[0m \u001b[0;34m\u001b[0m\u001b[0m\n\u001b[1;32m      5\u001b[0m \u001b[0mlay_sum\u001b[0m \u001b[0;34m=\u001b[0m \u001b[0;34m[\u001b[0m\u001b[0;34m]\u001b[0m\u001b[0;34m\u001b[0m\u001b[0;34m\u001b[0m\u001b[0m\n",
      "\u001b[0;31mValueError\u001b[0m: setting an array element with a sequence."
     ]
    }
   ],
   "source": [
    "mat = np.array([ np.array(att).sum(1) for _, att in sentence[1:-1] ]) \n",
    "mat = mat.transpose(1, 0, 2)\n",
    "mat = mat[:,:-1,1:-2]\n",
    "\n",
    "lay_sum = []\n",
    "for layer in range(12):\n",
    "    if mat[layer].sum():\n",
    "        lay_sum += [ mat[layer].sum() ]\n",
    "        mat[layer] /= mat[layer].max()"
   ]
  },
  {
   "cell_type": "code",
   "execution_count": null,
   "metadata": {},
   "outputs": [],
   "source": []
  },
  {
   "cell_type": "code",
   "execution_count": 27,
   "metadata": {},
   "outputs": [
    {
     "ename": "ValueError",
     "evalue": "cannot reshape array of size 3888 into shape (12,21,21)",
     "output_type": "error",
     "traceback": [
      "\u001b[0;31m---------------------------------------------------------------------------\u001b[0m",
      "\u001b[0;31mValueError\u001b[0m                                Traceback (most recent call last)",
      "\u001b[0;32m<ipython-input-27-046e48ce060f>\u001b[0m in \u001b[0;36m<module>\u001b[0;34m()\u001b[0m\n\u001b[1;32m      4\u001b[0m \u001b[0mwords\u001b[0m \u001b[0;34m=\u001b[0m \u001b[0mwords\u001b[0m\u001b[0;34m[\u001b[0m\u001b[0;36m1\u001b[0m\u001b[0;34m:\u001b[0m\u001b[0;34m-\u001b[0m\u001b[0;36m2\u001b[0m\u001b[0;34m]\u001b[0m\u001b[0;34m\u001b[0m\u001b[0;34m\u001b[0m\u001b[0m\n\u001b[1;32m      5\u001b[0m \u001b[0mres\u001b[0m \u001b[0;34m=\u001b[0m \u001b[0mmat\u001b[0m\u001b[0;34m.\u001b[0m\u001b[0mtranspose\u001b[0m\u001b[0;34m(\u001b[0m\u001b[0;36m1\u001b[0m\u001b[0;34m,\u001b[0m \u001b[0;36m0\u001b[0m\u001b[0;34m,\u001b[0m \u001b[0;36m2\u001b[0m\u001b[0;34m)\u001b[0m\u001b[0;34m\u001b[0m\u001b[0;34m\u001b[0m\u001b[0m\n\u001b[0;32m----> 6\u001b[0;31m \u001b[0mres\u001b[0m \u001b[0;34m=\u001b[0m \u001b[0mres\u001b[0m\u001b[0;34m.\u001b[0m\u001b[0mreshape\u001b[0m\u001b[0;34m(\u001b[0m\u001b[0;34m-\u001b[0m\u001b[0;36m1\u001b[0m\u001b[0;34m,\u001b[0m \u001b[0;36m12\u001b[0m\u001b[0;34m,\u001b[0m \u001b[0msize_line\u001b[0m\u001b[0;34m,\u001b[0m \u001b[0msize_line\u001b[0m\u001b[0;34m)\u001b[0m\u001b[0;34m.\u001b[0m\u001b[0mmean\u001b[0m\u001b[0;34m(\u001b[0m\u001b[0;36m0\u001b[0m\u001b[0;34m)\u001b[0m\u001b[0;34m\u001b[0m\u001b[0;34m\u001b[0m\u001b[0m\n\u001b[0m\u001b[1;32m      7\u001b[0m \u001b[0mres\u001b[0m\u001b[0;34m.\u001b[0m\u001b[0mshape\u001b[0m\u001b[0;34m\u001b[0m\u001b[0;34m\u001b[0m\u001b[0m\n",
      "\u001b[0;31mValueError\u001b[0m: cannot reshape array of size 3888 into shape (12,21,21)"
     ]
    }
   ],
   "source": [
    "res = mat.transpose(1, 0, 2)\n",
    "res = res.reshape(-1, 12, size_line, size_line).mean(0)\n",
    "res.shape"
   ]
  },
  {
   "cell_type": "code",
   "execution_count": null,
   "metadata": {
    "scrolled": true
   },
   "outputs": [],
   "source": [
    "sum_attending = res.sum(0).mean(1)[1:-2]\n",
    "sum_attended = res.sum(0).mean(0)[1:-2]\n",
    "attended = np.zeros(res.shape)\n",
    "lay_sum = []\n",
    "for layer in range(len(res)):\n",
    "    for token in range(len(res[layer])):\n",
    "        d = np.argsort(-res[layer, token][1:-2])\n",
    "        attended[layer, token][1:-2][d] = res[layer, token][1:-2][d]\n",
    "    if attended[layer].sum():\n",
    "        lay_sum += [ attended[layer].sum() ]\n",
    "        attended[layer] /= attended[layer].max()"
   ]
  },
  {
   "cell_type": "code",
   "execution_count": null,
   "metadata": {
    "scrolled": true
   },
   "outputs": [],
   "source": [
    "res = get_norm_sentence_layer(mat, normalize=True)\n",
    "plot_attended_token(res, words, scale=4)"
   ]
  },
  {
   "cell_type": "code",
   "execution_count": null,
   "metadata": {
    "scrolled": false
   },
   "outputs": [],
   "source": [
    "fig, ax = plt.subplots(figsize = (25, 15))\n",
    "\n",
    "for layer in range(len(res)):\n",
    "    dot = lay_sum[layer] * 10\n",
    "    ax.scatter(layer * 1.2 + .5, 1, alpha=1, s=dot, c=\"royalblue\", label=\"Unnormalized mean layer\")\n",
    "    for token_a in range(size_line):\n",
    "        dot = attended[layer, token_a].sum() * 100\n",
    "        ax.scatter((layer + 1) * 1.2 - .2, size_line - token_a, alpha=1, s=dot, c=\"red\", label=\"Emitted att.\")\n",
    "\n",
    "        dot = attended[layer, :, token_a].sum() * 100\n",
    "        ax.scatter(layer * 1.2, size_line - token_a, alpha=1, s=dot, c=\"black\", label=\"Received att.\")\n",
    "        for token_b in range(size_line):\n",
    "            alpha = attended[layer, token_a, token_b]\n",
    "            ax.plot([layer * 1.2 + 1, layer * 1.2], [size_line - token_a, size_line - token_b],\n",
    "                    'ro-', alpha=alpha, markersize=0, color=\"royalblue\", label=\"Att. value\")\n",
    "\n",
    "for i in range(1, size_line - 2):\n",
    "    plt.text(len(res) * 1.2 + .5, size_line - i - .2 , words[i], fontsize=20)\n",
    "\n",
    "for layer in range(len(res)):\n",
    "    plt.text(layer * 1.2 + .4, -0.2, str(layer+1), fontsize=20)\n",
    "\n",
    "ax.scatter(0, 0, alpha=0)    \n",
    "    \n",
    "handles, labels = pyplot.gca().get_legend_handles_labels()\n",
    "newLabels, newHandles = [], []\n",
    "for handle, label in zip(handles, labels):\n",
    "    if label not in newLabels:\n",
    "        newLabels.append(label)\n",
    "        newHandles.append(handle)\n",
    "\n",
    "lgd = plt.legend(newHandles, newLabels, loc=\"upper center\", prop={'size': 20}, ncol=4)\n",
    "for legend_handle in lgd.legendHandles:\n",
    "    legend_handle._sizes = [100]\n",
    "    legend_handle.set_alpha(1)\n",
    "\n",
    "fig.patch.set_visible(False)\n",
    "ax.axis('off')\n",
    "\n",
    "plt.tight_layout()\n",
    "plt.savefig(\"10.pdf\", method=\".pdf\")\n",
    "\n",
    "plt.show()"
   ]
  },
  {
   "cell_type": "code",
   "execution_count": null,
   "metadata": {},
   "outputs": [],
   "source": []
  }
 ],
 "metadata": {
  "kernelspec": {
   "display_name": "Python [conda env:root]",
   "language": "python",
   "name": "conda-root-py"
  },
  "language_info": {
   "codemirror_mode": {
    "name": "ipython",
    "version": 3
   },
   "file_extension": ".py",
   "mimetype": "text/x-python",
   "name": "python",
   "nbconvert_exporter": "python",
   "pygments_lexer": "ipython3",
   "version": "3.7.2"
  }
 },
 "nbformat": 4,
 "nbformat_minor": 2
}
