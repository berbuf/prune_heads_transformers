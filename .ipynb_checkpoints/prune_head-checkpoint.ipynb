{
 "cells": [
  {
   "cell_type": "code",
   "execution_count": 1,
   "metadata": {},
   "outputs": [
    {
     "name": "stderr",
     "output_type": "stream",
     "text": [
      "I1119 21:02:32.232357 139828737013568 file_utils.py:39] PyTorch version 1.1.0 available.\n"
     ]
    }
   ],
   "source": [
    "import modif_bert\n",
    "import transformers\n",
    "from torch import nn, optim\n",
    "import torch.nn.functional as F\n",
    "import torch\n",
    "import numpy as np\n",
    "import spacy\n",
    "import matplotlib.pyplot as plt"
   ]
  },
  {
   "cell_type": "code",
   "execution_count": 2,
   "metadata": {},
   "outputs": [
    {
     "name": "stderr",
     "output_type": "stream",
     "text": [
      "I1119 21:02:35.304032 139828737013568 tokenization_utils.py:373] loading file https://s3.amazonaws.com/models.huggingface.co/bert/bert-base-uncased-vocab.txt from cache at /home/bertrand/.cache/torch/transformers/26bc1ad6c0ac742e9b52263248f6d0f00068293b33709fae12320c0e35ccfbbb.542ce4285a40d23a559526243235df47c5f75c197f04f37d1a0c124c32c9a084\n",
      "I1119 21:02:37.009439 139828737013568 configuration_utils.py:152] loading configuration file https://s3.amazonaws.com/models.huggingface.co/bert/bert-base-uncased-config.json from cache at /home/bertrand/.cache/torch/transformers/4dad0251492946e18ac39290fcfe91b89d370fee250efe9521476438fe8ca185.bf3b9ea126d8c0001ee8a1e8b92229871d06d36d8808208cc2449280da87785c\n",
      "I1119 21:02:37.011896 139828737013568 configuration_utils.py:169] Model config {\n",
      "  \"attention_probs_dropout_prob\": 0.1,\n",
      "  \"finetuning_task\": null,\n",
      "  \"hidden_act\": \"gelu\",\n",
      "  \"hidden_dropout_prob\": 0.1,\n",
      "  \"hidden_size\": 768,\n",
      "  \"initializer_range\": 0.02,\n",
      "  \"intermediate_size\": 3072,\n",
      "  \"is_decoder\": false,\n",
      "  \"layer_norm_eps\": 1e-12,\n",
      "  \"max_position_embeddings\": 512,\n",
      "  \"num_attention_heads\": 12,\n",
      "  \"num_hidden_layers\": 12,\n",
      "  \"num_labels\": 2,\n",
      "  \"output_attentions\": false,\n",
      "  \"output_hidden_states\": false,\n",
      "  \"output_past\": true,\n",
      "  \"pruned_heads\": {},\n",
      "  \"torchscript\": false,\n",
      "  \"type_vocab_size\": 2,\n",
      "  \"use_bfloat16\": false,\n",
      "  \"vocab_size\": 30522\n",
      "}\n",
      "\n",
      "I1119 21:02:38.685904 139828737013568 modeling_utils.py:383] loading weights file https://s3.amazonaws.com/models.huggingface.co/bert/bert-base-uncased-pytorch_model.bin from cache at /home/bertrand/.cache/torch/transformers/aa1ef1aede4482d0dbcd4d52baad8ae300e60902e88fcb0bebdec09afd232066.36ca03ab34a1a5d5fa7bc3d03d55c4fa650fed07220e2eeebc06ce58d0e9a157\n",
      "I1119 21:02:43.928524 139828737013568 modeling_utils.py:456] Weights from pretrained model not used in BertForMaskedLM: ['cls.seq_relationship.weight', 'cls.seq_relationship.bias']\n"
     ]
    }
   ],
   "source": [
    "weights = 'bert-base-uncased'\n",
    "tokenizer = transformers.BertTokenizer.from_pretrained(weights)\n",
    "\n",
    "model = modif_bert.BertForMaskedLM.from_pretrained(weights)\n",
    "bert_model = model.bert\n",
    "language_model = model.cls"
   ]
  },
  {
   "cell_type": "code",
   "execution_count": 3,
   "metadata": {},
   "outputs": [],
   "source": [
    "def gen_sent(corpus):\n",
    "    nlp = spacy.load(\"en_core_web_sm\")\n",
    "    for doc in corpus:\n",
    "        for sent in nlp(doc).sents:\n",
    "            yield list(zip(*[ [t.text, t.pos_, t.dep_] for t in sent ]))\n",
    "\n",
    "def mask_unk(text):\n",
    "    target_ids = torch.tensor([tokenizer.encode(text, add_special_tokens=True)])\n",
    "    mask = [1] * len(target_ids[0])\n",
    "    for i in range(1, len(target_ids[0]) - 1):\n",
    "        if target_ids[i] == 100:\n",
    "            mask[i] = 0\n",
    "    return mask\n",
    "\n",
    "def encode_ids(text):\n",
    "    target_ids = torch.tensor([tokenizer.encode(text, add_special_tokens=True)])\n",
    "    tok = [ tokenizer._convert_id_to_token(t) for t in target_ids[0].numpy() ]\n",
    "    input_ids = torch.tensor([tokenizer.encode(text, add_special_tokens=True)])\n",
    "    for index_target in range(1, len(input_ids[0]) - 1):\n",
    "        if target_ids[0][index_target] == 100:\n",
    "            continue\n",
    "        input_ids[0][index_target] = 103\n",
    "        yield input_ids, target_ids, index_target, tok\n",
    "        input_ids[0][index_target] = target_ids[0][index_target]\n",
    "    yield (), (), (), ()"
   ]
  },
  {
   "cell_type": "code",
   "execution_count": 4,
   "metadata": {},
   "outputs": [],
   "source": [
    "KD_loss = nn.KLDivLoss(reduction='batchmean')\n",
    "def loss_distrib(prediction_scores, teacher):\n",
    "    input = prediction_scores[0][index_target].view(-1, prediction_scores.shape[2])\n",
    "    student = F.log_softmax(input, dim=-1)\n",
    "    return KD_loss(student, teacher)\n",
    "\n",
    "loss = nn.CrossEntropyLoss()\n",
    "def loss_cross_entropy(prediction_scores, target_ids, index_target):\n",
    "    input = prediction_scores[0][index_target].view(-1, prediction_scores.shape[2])\n",
    "    target = target_ids[0][index_target].view(-1)\n",
    "    return loss(input, target)\n",
    "\n",
    "def ptokens(prediction_scores):\n",
    "    a = prediction_scores[0][index_target].view(-1, prediction_scores.shape[2])\n",
    "    d = np.argsort(-a[0].detach().numpy())\n",
    "    for i in d[:10]:\n",
    "        print (\"{:<20}{:<20}{}\".format(tokenizer._convert_id_to_token(i), i, a[0][i]))\n",
    "    print ()"
   ]
  },
  {
   "cell_type": "code",
   "execution_count": 5,
   "metadata": {},
   "outputs": [],
   "source": [
    "def norm1(model):\n",
    "    norm_l1 = 0\n",
    "    for param in model.parameters():\n",
    "        if param.requires_grad:\n",
    "            norm_l1 += param.norm(p=1)\n",
    "    return norm_l1\n",
    "\n",
    "def clip_value(model):\n",
    "    for param in model.parameters():\n",
    "        if param.requires_grad:\n",
    "            param.data.clamp_(min=0., max=10.)\n",
    "\n",
    "def init_gates(model, lr, index_target):\n",
    "    for param in model.parameters():\n",
    "        param.requires_grad = False\n",
    "    model.init_head_gates(index_target)\n",
    "    return optim.Adam(filter(lambda p: p.requires_grad, model.parameters()), lr=lr)\n",
    "\n",
    "def get_target(target_ids):\n",
    "    with torch.no_grad():\n",
    "        outputs = bert_model(target_ids)\n",
    "        prediction_scores = language_model(outputs[0])\n",
    "        #target_scores = prediction_scores[0][index_target].view(-1, prediction_scores.shape[2])\n",
    "        #teacher = F.softmax(target_scores, dim=-1)\n",
    "        return prediction_scores"
   ]
  },
  {
   "cell_type": "code",
   "execution_count": 16,
   "metadata": {},
   "outputs": [],
   "source": [
    "def gates_values(model):\n",
    "    gates = list(filter(lambda p: p.requires_grad, model.parameters()))\n",
    "    return np.array([ e.cpu().detach().numpy().flatten() for e in gates ])\n",
    "\n",
    "def att_prob_values(model):\n",
    "    att_probs = bert_model.retrieve_attention_prob()\n",
    "    return np.array([ e.cpu().detach().numpy() for e in att_probs])\n",
    "\n",
    "def round_gates(gates):\n",
    "    gates[gates < 0.5] = 0\n",
    "    gates[gates > 0.5] = 1\n",
    "    return gates"
   ]
  },
  {
   "cell_type": "code",
   "execution_count": null,
   "metadata": {},
   "outputs": [],
   "source": [
    "corpus = open(\"../corpus.txt\").readlines()\n",
    "gen_s = gen_sent(corpus)\n",
    "text, pos, dep = next(gen_s)\n",
    "print (text)"
   ]
  },
  {
   "cell_type": "code",
   "execution_count": null,
   "metadata": {},
   "outputs": [],
   "source": [
    "input_ids, target_ids, index_target, tokens = next(gen_ids)\n",
    "tokens[index_target]"
   ]
  },
  {
   "cell_type": "code",
   "execution_count": 47,
   "metadata": {},
   "outputs": [
    {
     "data": {
      "text/plain": [
       "(tensor([[ 101, 1045, 2572, 2005,  103, 1998, 1045, 2562, 2006, 3038, 2023,  102]]),\n",
       " tensor([[ 101, 1045, 2572, 2005, 7982, 1998, 1045, 2562, 2006, 3038, 2023,  102]]))"
      ]
     },
     "execution_count": 47,
     "metadata": {},
     "output_type": "execute_result"
    }
   ],
   "source": [
    "target = [\"Here is the text to encode\", \"Next to me is the cat\", \"Generating sentences from a Continuous Space\",\n",
    "          \"Wikipedia is a free online website, created and edited by volunteers around the world and hosted by the Wikimedia Foundation.\",\n",
    "          \"She eats an apple\", \"An apple eats John\",\n",
    "          \"i am for dialogue and i keep on saying this\",\n",
    "          \"all four tasmanian boats have finished .\"]\n",
    "\n",
    "inp = [\"Here is [MASK] text to encode\",\n",
    "       \"Next to me is the [MASK]\", \n",
    "       \"Generating [MASK] from a continuous Space\",\n",
    "       \"Wikipedia is a free online [MASK], created and edited by volunteers around the world and hosted by the Wikimedia Foundation.\",\n",
    "       \"She [MASK] an apple\",\n",
    "       \"An apple [MASK] John\",\n",
    "       \"i am for [MASK] and i keep on saying this\",\n",
    "       \"all four tasmanian [MASK] have finished .\"]\n",
    "\n",
    "sent = 6\n",
    "\n",
    "input_ids = torch.tensor([tokenizer.encode(inp[sent], add_special_tokens=True)])\n",
    "target_ids = torch.tensor([tokenizer.encode(target[sent], add_special_tokens=True)])\n",
    "\n",
    "index_target = 4\n",
    "\n",
    "# [MASK] = 103\n",
    "input_ids, target_ids"
   ]
  },
  {
   "cell_type": "code",
   "execution_count": 48,
   "metadata": {
    "scrolled": false
   },
   "outputs": [
    {
     "name": "stdout",
     "output_type": "stream",
     "text": [
      "dialogue            7982                18.581022262573242\n",
      "dialogues           22580               12.793519973754883\n",
      "debate              5981                10.235848426818848\n",
      "reconciliation      16088               9.292250633239746\n",
      "reflection          9185                8.949795722961426\n",
      "unity               8499                8.89005184173584\n",
      "clarity             15563               8.853912353515625\n",
      "discussion          6594                8.655020713806152\n",
      "understanding       4824                8.214696884155273\n",
      "consensus           10465               7.789949417114258\n",
      "\n",
      "you                 2017                7.599301815032959\n",
      "real                2613                7.527132511138916\n",
      "nothing             2498                6.66353702545166\n",
      "sale                5096                6.581860065460205\n",
      "him                 2032                6.0994367599487305\n",
      "her                 2014                5.7508039474487305\n",
      "sure                2469                5.581497669219971\n",
      "them                2068                5.4741082191467285\n",
      "it                  2009                5.393154144287109\n",
      "good                2204                5.228878498077393\n",
      "\n",
      "10.994763374328613                      144.0\n",
      "10.116219520568848                      120.8001480102539\n",
      "8.988652229309082                       98.16566467285156\n",
      "7.643178462982178                       75.97444915771484\n",
      "6.095310211181641                       54.2115478515625\n",
      "4.495607376098633                       32.60528564453125\n",
      "4.112428188323975                       34.40826416015625\n",
      "3.9514060020446777                      36.00187301635742\n",
      "3.787008285522461                       37.244510650634766\n",
      "3.6490416526794434                      38.039608001708984\n",
      "3.5195069313049316                      38.482208251953125\n",
      "3.388274669647217                       38.7127685546875\n",
      "3.2541704177856445                      39.013465881347656\n",
      "3.117339611053467                       39.21209716796875\n",
      "2.9776902198791504                      39.3474006652832\n",
      "2.8287014961242676                      39.44639205932617\n",
      "2.6705446243286133                      39.412071228027344\n",
      "2.5009961128234863                      39.31955337524414\n",
      "2.3215222358703613                      39.306602478027344\n",
      "2.140599250793457                       39.51565170288086\n",
      "1.939321517944336                       39.46982192993164\n",
      "1.6742067337036133                      39.172245025634766\n",
      "1.3400497436523438                      38.66478729248047\n",
      "1.2405624389648438                      38.24177551269531\n",
      "1.0553817749023438                      39.510765075683594\n",
      "1.0622758865356445                      39.94654846191406\n",
      "1.0129890441894531                      39.77958679199219\n",
      "0.944636344909668                       39.217140197753906\n",
      "0.9182634353637695                      38.615318298339844\n",
      "0.8907918930053711                      38.18631362915039\n",
      "0.7603521347045898                      37.922462463378906\n",
      "0.7138290405273438                      37.59982681274414\n",
      "0.6603727340698242                      37.08274459838867\n",
      "0.7057113647460938                      36.48747253417969\n",
      "0.6305227279663086                      36.46220397949219\n",
      "0.6381149291992188                      36.21622848510742\n",
      "0.6216468811035156                      35.77350997924805\n",
      "0.5924177169799805                      35.19727325439453\n",
      "0.576451301574707                       34.85525131225586\n",
      "0.5229597091674805                      34.90031433105469\n",
      "0.508580207824707                       34.64372634887695\n",
      "0.4868612289428711                      34.204036712646484\n",
      "0.4641084671020508                      33.75637435913086\n",
      "0.4470062255859375                      33.33699035644531\n",
      "0.4499053955078125                      32.89664077758789\n",
      "0.43163585662841797                     32.5465202331543\n",
      "0.4224586486816406                      32.144954681396484\n",
      "0.42174434661865234                     31.641754150390625\n",
      "0.4201641082763672                      31.073083877563477\n",
      "0.4359588623046875                      30.461326599121094\n",
      "\n",
      "dialogue            7982                10.823779106140137\n",
      "debate              5981                7.663905143737793\n",
      "##giving            23795               7.134267330169678\n",
      "peace               3521                6.99684476852417\n",
      "war                 2162                6.906372547149658\n",
      "conversation        4512                6.542586326599121\n",
      "words               2616                6.294713973999023\n",
      "comment             7615                6.223488807678223\n",
      "controversy         6704                6.113980293273926\n",
      ",                   1010                5.871260643005371\n",
      "\n",
      "15.0\n"
     ]
    }
   ],
   "source": [
    "lr = 0.2\n",
    "sigma = 0.05\n",
    "epochs = 50\n",
    "\n",
    "optimizer = init_gates(bert_model, lr, index_target)\n",
    "target_scores = get_target(target_ids)\n",
    "\n",
    "ptokens(target_scores)\n",
    "ptokens(language_model(bert_model(input_ids)[0]))\n",
    "\n",
    "for _ in range(epochs):\n",
    "    optimizer.zero_grad()\n",
    "    prediction_scores = language_model(bert_model(input_ids)[0])\n",
    "    l = loss_cross_entropy(prediction_scores, target_ids, index_target)\n",
    "    n = norm1(bert_model)\n",
    "\n",
    "    print (\"{:<40}{}\".format(l.item(), n.item()))\n",
    "\n",
    "    l += (sigma * n)\n",
    "    l.backward()\n",
    "    optimizer.step()\n",
    "    clip_value(bert_model)\n",
    "\n",
    "print ()\n",
    "ptokens(prediction_scores)\n",
    "gates = gates_values(bert_model)\n",
    "att_probs = att_prob_values(bert_model)\n",
    "print (sum(round_gates(gates.copy().flatten())))"
   ]
  },
  {
   "cell_type": "code",
   "execution_count": 49,
   "metadata": {},
   "outputs": [
    {
     "data": {
      "image/png": "[encoded data removed]",
      "text/plain": [
       "<Figure size 288x288 with 1 Axes>"
      ]
     },
     "metadata": {
      "needs_background": "light"
     },
     "output_type": "display_data"
    }
   ],
   "source": [
    "import matplotlib.pyplot as plt\n",
    "plt.matshow(gates)\n",
    "plt.show()"
   ]
  },
  {
   "cell_type": "code",
   "execution_count": 50,
   "metadata": {},
   "outputs": [
    {
     "data": {
      "text/plain": [
       "array([[0.00000000e+00, 0.00000000e+00, 0.00000000e+00, 0.00000000e+00,\n",
       "        0.00000000e+00, 0.00000000e+00, 0.00000000e+00, 0.00000000e+00,\n",
       "        0.00000000e+00, 0.00000000e+00, 0.00000000e+00, 0.00000000e+00],\n",
       "       [0.00000000e+00, 0.00000000e+00, 0.00000000e+00, 0.00000000e+00,\n",
       "        0.00000000e+00, 0.00000000e+00, 0.00000000e+00, 0.00000000e+00,\n",
       "        0.00000000e+00, 0.00000000e+00, 0.00000000e+00, 0.00000000e+00],\n",
       "       [1.08934485e-03, 5.37987100e-04, 6.91520283e-04, 5.01840794e-03,\n",
       "        3.77952284e-03, 3.59054800e-04, 5.57077175e-04, 1.12458045e-04,\n",
       "        5.58142201e-04, 1.48601655e-04, 3.09203751e-05, 1.60300347e-04],\n",
       "       [0.00000000e+00, 0.00000000e+00, 0.00000000e+00, 0.00000000e+00,\n",
       "        0.00000000e+00, 0.00000000e+00, 0.00000000e+00, 0.00000000e+00,\n",
       "        0.00000000e+00, 0.00000000e+00, 0.00000000e+00, 0.00000000e+00],\n",
       "       [4.37407166e-01, 1.66871622e-01, 2.70589262e-01, 1.63875088e-01,\n",
       "        2.15892091e-01, 1.87771380e-01, 1.55676335e-01, 2.51569033e-01,\n",
       "        1.41630068e-01, 3.34686160e-01, 2.81358063e-01, 2.07429066e-01],\n",
       "       [0.00000000e+00, 0.00000000e+00, 0.00000000e+00, 0.00000000e+00,\n",
       "        0.00000000e+00, 0.00000000e+00, 0.00000000e+00, 0.00000000e+00,\n",
       "        0.00000000e+00, 0.00000000e+00, 0.00000000e+00, 0.00000000e+00],\n",
       "       [0.00000000e+00, 0.00000000e+00, 0.00000000e+00, 0.00000000e+00,\n",
       "        0.00000000e+00, 0.00000000e+00, 0.00000000e+00, 0.00000000e+00,\n",
       "        0.00000000e+00, 0.00000000e+00, 0.00000000e+00, 0.00000000e+00],\n",
       "       [0.00000000e+00, 0.00000000e+00, 0.00000000e+00, 0.00000000e+00,\n",
       "        0.00000000e+00, 0.00000000e+00, 0.00000000e+00, 0.00000000e+00,\n",
       "        0.00000000e+00, 0.00000000e+00, 0.00000000e+00, 0.00000000e+00],\n",
       "       [0.00000000e+00, 0.00000000e+00, 0.00000000e+00, 0.00000000e+00,\n",
       "        0.00000000e+00, 0.00000000e+00, 0.00000000e+00, 0.00000000e+00,\n",
       "        0.00000000e+00, 0.00000000e+00, 0.00000000e+00, 0.00000000e+00],\n",
       "       [0.00000000e+00, 0.00000000e+00, 0.00000000e+00, 0.00000000e+00,\n",
       "        0.00000000e+00, 0.00000000e+00, 0.00000000e+00, 0.00000000e+00,\n",
       "        0.00000000e+00, 0.00000000e+00, 0.00000000e+00, 0.00000000e+00],\n",
       "       [0.00000000e+00, 0.00000000e+00, 0.00000000e+00, 0.00000000e+00,\n",
       "        0.00000000e+00, 0.00000000e+00, 0.00000000e+00, 0.00000000e+00,\n",
       "        0.00000000e+00, 0.00000000e+00, 0.00000000e+00, 0.00000000e+00],\n",
       "       [0.00000000e+00, 0.00000000e+00, 0.00000000e+00, 0.00000000e+00,\n",
       "        0.00000000e+00, 0.00000000e+00, 0.00000000e+00, 0.00000000e+00,\n",
       "        0.00000000e+00, 0.00000000e+00, 0.00000000e+00, 0.00000000e+00]],\n",
       "      dtype=float32)"
      ]
     },
     "execution_count": 50,
     "metadata": {},
     "output_type": "execute_result"
    }
   ],
   "source": [
    "att_probs[0]"
   ]
  },
  {
   "cell_type": "code",
   "execution_count": 35,
   "metadata": {},
   "outputs": [
    {
     "data": {
      "text/plain": [
       "[1.8646464347839355,\n",
       " 0.013002825900912285,\n",
       " 0.01624072901904583,\n",
       " 0.0,\n",
       " 0.8076977729797363,\n",
       " 0.0,\n",
       " 0.0,\n",
       " 0.014657636173069477,\n",
       " 0.0,\n",
       " 0.0,\n",
       " 0.6126802563667297,\n",
       " 0.0]"
      ]
     },
     "execution_count": 35,
     "metadata": {},
     "output_type": "execute_result"
    }
   ],
   "source": [
    "gates[0].tolist()"
   ]
  },
  {
   "cell_type": "code",
   "execution_count": 51,
   "metadata": {},
   "outputs": [
    {
     "data": {
      "image/png": "[encoded data removed]",
      "text/plain": [
       "<Figure size 432x288 with 1 Axes>"
      ]
     },
     "metadata": {
      "needs_background": "light"
     },
     "output_type": "display_data"
    }
   ],
   "source": [
    "plt.imshow(att_probs.sum(1))\n",
    "plt.show()"
   ]
  },
  {
   "cell_type": "code",
   "execution_count": 53,
   "metadata": {},
   "outputs": [
    {
     "data": {
      "text/plain": [
       "(12, 12)"
      ]
     },
     "execution_count": 53,
     "metadata": {},
     "output_type": "execute_result"
    }
   ],
   "source": [
    "att_probs.sum(1).shape"
   ]
  },
  {
   "cell_type": "code",
   "execution_count": 55,
   "metadata": {},
   "outputs": [
    {
     "data": {
      "text/plain": [
       "array([ 5.705809 ,  2.0539603,  3.7566454, 14.20861  ,  7.591771 ,\n",
       "        5.7731075,  3.2674675,  5.700349 ,  2.6984448,  7.6908097,\n",
       "        7.7513533, 34.63707  ], dtype=float32)"
      ]
     },
     "execution_count": 55,
     "metadata": {},
     "output_type": "execute_result"
    }
   ],
   "source": [
    "att_probs.sum(1).sum(0)\n",
    "\"i am for [MASK] and i keep on saying this\""
   ]
  },
  {
   "cell_type": "code",
   "execution_count": 52,
   "metadata": {
    "scrolled": false
   },
   "outputs": [
    {
     "data": {
      "image/png": "[encoded data removed]",
      "text/plain": [
       "<Figure size 432x288 with 1 Axes>"
      ]
     },
     "metadata": {
      "needs_background": "light"
     },
     "output_type": "display_data"
    },
    {
     "data": {
      "image/png": "[encoded data removed]",
      "text/plain": [
       "<Figure size 432x288 with 1 Axes>"
      ]
     },
     "metadata": {
      "needs_background": "light"
     },
     "output_type": "display_data"
    },
    {
     "data": {
      "image/png": "[encoded data removed]",
      "text/plain": [
       "<Figure size 432x288 with 1 Axes>"
      ]
     },
     "metadata": {
      "needs_background": "light"
     },
     "output_type": "display_data"
    },
    {
     "data": {
      "image/png": "[encoded data removed]",
      "text/plain": [
       "<Figure size 432x288 with 1 Axes>"
      ]
     },
     "metadata": {
      "needs_background": "light"
     },
     "output_type": "display_data"
    },
    {
     "data": {
      "image/png": "[encoded data removed]",
      "text/plain": [
       "<Figure size 432x288 with 1 Axes>"
      ]
     },
     "metadata": {
      "needs_background": "light"
     },
     "output_type": "display_data"
    },
    {
     "data": {
      "image/png": "[encoded data removed]",
      "text/plain": [
       "<Figure size 432x288 with 1 Axes>"
      ]
     },
     "metadata": {
      "needs_background": "light"
     },
     "output_type": "display_data"
    },
    {
     "data": {
      "image/png": "[encoded data removed]",
      "text/plain": [
       "<Figure size 432x288 with 1 Axes>"
      ]
     },
     "metadata": {
      "needs_background": "light"
     },
     "output_type": "display_data"
    },
    {
     "data": {
      "image/png": "[encoded data removed]",
      "text/plain": [
       "<Figure size 432x288 with 1 Axes>"
      ]
     },
     "metadata": {
      "needs_background": "light"
     },
     "output_type": "display_data"
    },
    {
     "data": {
      "image/png": "[encoded data removed]",
      "text/plain": [
       "<Figure size 432x288 with 1 Axes>"
      ]
     },
     "metadata": {
      "needs_background": "light"
     },
     "output_type": "display_data"
    },
    {
     "data": {
      "image/png": "[encoded data removed]",
      "text/plain": [
       "<Figure size 432x288 with 1 Axes>"
      ]
     },
     "metadata": {
      "needs_background": "light"
     },
     "output_type": "display_data"
    },
    {
     "data": {
      "image/png": "[encoded data removed]",
      "text/plain": [
       "<Figure size 432x288 with 1 Axes>"
      ]
     },
     "metadata": {
      "needs_background": "light"
     },
     "output_type": "display_data"
    },
    {
     "data": {
      "image/png": "[encoded data removed]",
      "text/plain": [
       "<Figure size 432x288 with 1 Axes>"
      ]
     },
     "metadata": {
      "needs_background": "light"
     },
     "output_type": "display_data"
    }
   ],
   "source": [
    "for i, l_att in enumerate(att_probs):\n",
    "    plt.imshow(l_att)\n",
    "    plt.show()"
   ]
  },
  {
   "cell_type": "code",
   "execution_count": null,
   "metadata": {},
   "outputs": [],
   "source": [
    "gates[0].tolist()"
   ]
  },
  {
   "cell_type": "code",
   "execution_count": null,
   "metadata": {},
   "outputs": [],
   "source": [
    "prev_prob, new_prob, saved_gates = att_probs[0][1]"
   ]
  },
  {
   "cell_type": "code",
   "execution_count": null,
   "metadata": {
    "scrolled": true
   },
   "outputs": [],
   "source": [
    "prev_prob.shape, saved_gates.shape"
   ]
  },
  {
   "cell_type": "code",
   "execution_count": null,
   "metadata": {},
   "outputs": [],
   "source": [
    "prev_prob"
   ]
  },
  {
   "cell_type": "code",
   "execution_count": null,
   "metadata": {},
   "outputs": [],
   "source": [
    "new_prob[0][0]"
   ]
  },
  {
   "cell_type": "code",
   "execution_count": null,
   "metadata": {},
   "outputs": [],
   "source": [
    "(prev_prob * saved_gates)[0][0]"
   ]
  },
  {
   "cell_type": "code",
   "execution_count": null,
   "metadata": {},
   "outputs": [],
   "source": [
    "gates[0].tolist()"
   ]
  },
  {
   "cell_type": "code",
   "execution_count": null,
   "metadata": {},
   "outputs": [],
   "source": [
    "saved_gates[0].flatten().tolist()"
   ]
  },
  {
   "cell_type": "code",
   "execution_count": null,
   "metadata": {},
   "outputs": [],
   "source": [
    "new_prob[0].shape"
   ]
  },
  {
   "cell_type": "code",
   "execution_count": null,
   "metadata": {
    "scrolled": false
   },
   "outputs": [],
   "source": [
    "att_probs[0][1]"
   ]
  },
  {
   "cell_type": "code",
   "execution_count": null,
   "metadata": {},
   "outputs": [],
   "source": [
    "a = np.array([1, 1, 0, 1]).reshape(1, 4, 1, 1)"
   ]
  },
  {
   "cell_type": "code",
   "execution_count": null,
   "metadata": {},
   "outputs": [],
   "source": [
    "b = np.ones(16).reshape(1, 4, 2, 2)"
   ]
  },
  {
   "cell_type": "code",
   "execution_count": null,
   "metadata": {},
   "outputs": [],
   "source": [
    "b * a"
   ]
  },
  {
   "cell_type": "code",
   "execution_count": null,
   "metadata": {},
   "outputs": [],
   "source": [
    "nn.Softmax(dim=-1)(torch.Tensor([1, 2, 4])).sum()"
   ]
  },
  {
   "cell_type": "code",
   "execution_count": null,
   "metadata": {},
   "outputs": [],
   "source": []
  }
 ],
 "metadata": {
  "kernelspec": {
   "display_name": "Python [conda env:root]",
   "language": "python",
   "name": "conda-root-py"
  },
  "language_info": {
   "codemirror_mode": {
    "name": "ipython",
    "version": 3
   },
   "file_extension": ".py",
   "mimetype": "text/x-python",
   "name": "python",
   "nbconvert_exporter": "python",
   "pygments_lexer": "ipython3",
   "version": "3.7.2"
  }
 },
 "nbformat": 4,
 "nbformat_minor": 2
}
